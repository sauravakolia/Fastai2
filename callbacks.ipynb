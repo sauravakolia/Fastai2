{
  "nbformat": 4,
  "nbformat_minor": 0,
  "metadata": {
    "colab": {
      "name": "calllbacks.ipynb",
      "provenance": [],
      "collapsed_sections": [],
      "authorship_tag": "ABX9TyM7OQl7wQ8s/m3p3TRBn1A4",
      "include_colab_link": true
    },
    "kernelspec": {
      "name": "python3",
      "display_name": "Python 3"
    }
  },
  "cells": [
    {
      "cell_type": "markdown",
      "metadata": {
        "id": "view-in-github",
        "colab_type": "text"
      },
      "source": [
        "<a href=\"https://colab.research.google.com/github/sauravakolia/Fastai2/blob/master/calllbacks.ipynb\" target=\"_parent\"><img src=\"https://colab.research.google.com/assets/colab-badge.svg\" alt=\"Open In Colab\"/></a>"
      ]
    },
    {
      "cell_type": "code",
      "metadata": {
        "id": "nXk3so0uVwE2",
        "colab_type": "code",
        "colab": {}
      },
      "source": [
        "%load_ext autoreload\n",
        "%autoreload 2\n",
        "\n",
        "%matplotlib inline"
      ],
      "execution_count": null,
      "outputs": []
    },
    {
      "cell_type": "code",
      "metadata": {
        "id": "z0J13te_V7S-",
        "colab_type": "code",
        "colab": {
          "base_uri": "https://localhost:8080/",
          "height": 129
        },
        "outputId": "a4f6da2e-8b5a-45ef-83c0-c34b3ad923e2"
      },
      "source": [
        "!git clone https://github.com/sauravakolia/Fastai2.git"
      ],
      "execution_count": null,
      "outputs": [
        {
          "output_type": "stream",
          "text": [
            "Cloning into 'Fastai2'...\n",
            "remote: Enumerating objects: 21, done.\u001b[K\n",
            "remote: Counting objects:   4% (1/21)\u001b[K\rremote: Counting objects:   9% (2/21)\u001b[K\rremote: Counting objects:  14% (3/21)\u001b[K\rremote: Counting objects:  19% (4/21)\u001b[K\rremote: Counting objects:  23% (5/21)\u001b[K\rremote: Counting objects:  28% (6/21)\u001b[K\rremote: Counting objects:  33% (7/21)\u001b[K\rremote: Counting objects:  38% (8/21)\u001b[K\rremote: Counting objects:  42% (9/21)\u001b[K\rremote: Counting objects:  47% (10/21)\u001b[K\rremote: Counting objects:  52% (11/21)\u001b[K\rremote: Counting objects:  57% (12/21)\u001b[K\rremote: Counting objects:  61% (13/21)\u001b[K\rremote: Counting objects:  66% (14/21)\u001b[K\rremote: Counting objects:  71% (15/21)\u001b[K\rremote: Counting objects:  76% (16/21)\u001b[K\rremote: Counting objects:  80% (17/21)\u001b[K\rremote: Counting objects:  85% (18/21)\u001b[K\rremote: Counting objects:  90% (19/21)\u001b[K\rremote: Counting objects:  95% (20/21)\u001b[K\rremote: Counting objects: 100% (21/21)\u001b[K\rremote: Counting objects: 100% (21/21), done.\u001b[K\n",
            "remote: Compressing objects:   5% (1/19)\u001b[K\rremote: Compressing objects:  10% (2/19)\u001b[K\rremote: Compressing objects:  15% (3/19)\u001b[K\rremote: Compressing objects:  21% (4/19)\u001b[K\rremote: Compressing objects:  26% (5/19)\u001b[K\rremote: Compressing objects:  31% (6/19)\u001b[K\rremote: Compressing objects:  36% (7/19)\u001b[K\rremote: Compressing objects:  42% (8/19)\u001b[K\rremote: Compressing objects:  47% (9/19)\u001b[K\rremote: Compressing objects:  52% (10/19)\u001b[K\rremote: Compressing objects:  57% (11/19)\u001b[K\rremote: Compressing objects:  63% (12/19)\u001b[K\rremote: Compressing objects:  68% (13/19)\u001b[K\rremote: Compressing objects:  73% (14/19)\u001b[K\rremote: Compressing objects:  78% (15/19)\u001b[K\rremote: Compressing objects:  84% (16/19)\u001b[K\rremote: Compressing objects:  89% (17/19)\u001b[K\rremote: Compressing objects:  94% (18/19)\u001b[K\rremote: Compressing objects: 100% (19/19)\u001b[K\rremote: Compressing objects: 100% (19/19), done.\u001b[K\n",
            "remote: Total 21 (delta 9), reused 0 (delta 0), pack-reused 0\u001b[K\n",
            "Unpacking objects:   4% (1/21)   \rUnpacking objects:   9% (2/21)   \rUnpacking objects:  14% (3/21)   \rUnpacking objects:  19% (4/21)   \rUnpacking objects:  23% (5/21)   \rUnpacking objects:  28% (6/21)   \rUnpacking objects:  33% (7/21)   \rUnpacking objects:  38% (8/21)   \rUnpacking objects:  42% (9/21)   \rUnpacking objects:  47% (10/21)   \rUnpacking objects:  52% (11/21)   \rUnpacking objects:  57% (12/21)   \rUnpacking objects:  61% (13/21)   \rUnpacking objects:  66% (14/21)   \rUnpacking objects:  71% (15/21)   \rUnpacking objects:  76% (16/21)   \rUnpacking objects:  80% (17/21)   \rUnpacking objects:  85% (18/21)   \rUnpacking objects:  90% (19/21)   \rUnpacking objects:  95% (20/21)   \rUnpacking objects: 100% (21/21)   \rUnpacking objects: 100% (21/21), done.\n"
          ],
          "name": "stdout"
        }
      ]
    },
    {
      "cell_type": "code",
      "metadata": {
        "id": "jwPZiUZgXgre",
        "colab_type": "code",
        "colab": {}
      },
      "source": [
        "# %cd \"/content/Fastai2/\"\n",
        "import sys\n",
        "sys.path.append('/content/Fastai2/')"
      ],
      "execution_count": null,
      "outputs": []
    },
    {
      "cell_type": "code",
      "metadata": {
        "id": "YrFBb5F9YgZ2",
        "colab_type": "code",
        "colab": {
          "base_uri": "https://localhost:8080/",
          "height": 318
        },
        "outputId": "846f8eea-ce88-4ee6-dd8b-21ffc0586345"
      },
      "source": [
        "# for importing from ipynb file\n",
        "!pip install import-ipynb\n",
        "from minibatch import *"
      ],
      "execution_count": null,
      "outputs": [
        {
          "output_type": "stream",
          "text": [
            "Collecting import-ipynb\n",
            "  Downloading https://files.pythonhosted.org/packages/63/35/495e0021bfdcc924c7cdec4e9fbb87c88dd03b9b9b22419444dc370c8a45/import-ipynb-0.1.3.tar.gz\n",
            "Building wheels for collected packages: import-ipynb\n",
            "  Building wheel for import-ipynb (setup.py) ... \u001b[?25l\u001b[?25hdone\n",
            "  Created wheel for import-ipynb: filename=import_ipynb-0.1.3-cp36-none-any.whl size=2976 sha256=9fe836990b24d5e25db2a2c8d5020676526ea9c5bc09eb98ba080624a8e794bf\n",
            "  Stored in directory: /root/.cache/pip/wheels/b4/7b/e9/a3a6e496115dffdb4e3085d0ae39ffe8a814eacc44bbf494b5\n",
            "Successfully built import-ipynb\n",
            "Installing collected packages: import-ipynb\n",
            "Successfully installed import-ipynb-0.1.3\n",
            "Downloading http://deeplearning.net/data/mnist/mnist.pkl.gz\n"
          ],
          "name": "stdout"
        },
        {
          "output_type": "display_data",
          "data": {
            "text/html": [
              ""
            ],
            "text/plain": [
              "<IPython.core.display.HTML object>"
            ]
          },
          "metadata": {
            "tags": []
          }
        },
        {
          "output_type": "stream",
          "text": [
            "0 tensor(0.1683) tensor(0.9499)\n",
            "1 tensor(0.1203) tensor(0.9668)\n",
            "2 tensor(0.1387) tensor(0.9615)\n",
            "3 tensor(0.1149) tensor(0.9671)\n",
            "4 tensor(0.1234) tensor(0.9634)\n"
          ],
          "name": "stdout"
        }
      ]
    },
    {
      "cell_type": "code",
      "metadata": {
        "id": "llzz1gsEWg2O",
        "colab_type": "code",
        "colab": {}
      },
      "source": [
        "# for importing from python script(.py)\n",
        "# from minibatch import *"
      ],
      "execution_count": null,
      "outputs": []
    },
    {
      "cell_type": "code",
      "metadata": {
        "id": "4H1dvQnEV2bd",
        "colab_type": "code",
        "colab": {}
      },
      "source": [
        "x_train,y_train,x_valid,y_valid = get_data()\n",
        "train_ds,valid_ds = Dataset(x_train, y_train),Dataset(x_valid, y_valid)\n",
        "nh,bs = 50,64\n",
        "c = y_train.max().item()+1\n",
        "loss_func = F.cross_entropy"
      ],
      "execution_count": null,
      "outputs": []
    },
    {
      "cell_type": "markdown",
      "metadata": {
        "id": "Yu-VQW5Q5Kgz",
        "colab_type": "text"
      },
      "source": [
        "Factor out the connected pieces of info out of the fit() argument list\n",
        "\n",
        "`fit(epochs, model, loss_func, opt, train_dl, valid_dl)`\n",
        "\n",
        "Let's replace it with something that looks like this:\n",
        "\n",
        "`fit(1, learn)`\n",
        "\n",
        "This will allow us to tweak what's happening inside the training loop in other places of the code because the `Learner` object will be mutable, so changing any of its attribute elsewhere will be seen in our training loop."
      ]
    },
    {
      "cell_type": "code",
      "metadata": {
        "id": "4DeUSHpoV5as",
        "colab_type": "code",
        "colab": {}
      },
      "source": [
        "# class DataBunch():\n",
        "#   def __init__(self,train_dl,valid_dl,c=None):\n",
        "#     self.train_dl=train_dl\n",
        "#     self.valid_dl=valid_dl\n",
        "#     self.c=c\n",
        "\n",
        "#   @property\n",
        "#   def train_ds(self):\n",
        "#     return self.train_dl.dataset\n",
        "\n",
        "#   @property\n",
        "#   def valid_ds(self):\n",
        "#     return self.valid_ds.dataset\n",
        "\n",
        "#export\n",
        "class DataBunch():\n",
        "    def __init__(self, train_dl, valid_dl, c=None):\n",
        "        self.train_dl,self.valid_dl,self.c = train_dl,valid_dl,c\n",
        "        \n",
        "    @property\n",
        "    def train_ds(self): return self.train_dl.dataset\n",
        "        \n",
        "    @property\n",
        "    def valid_ds(self): return self.valid_dl.dataset"
      ],
      "execution_count": null,
      "outputs": []
    },
    {
      "cell_type": "code",
      "metadata": {
        "id": "QQeHj7Qq547Z",
        "colab_type": "code",
        "colab": {}
      },
      "source": [
        "\n",
        "data = DataBunch(*get_dls(train_ds, valid_ds, bs), c)"
      ],
      "execution_count": null,
      "outputs": []
    },
    {
      "cell_type": "code",
      "metadata": {
        "id": "uf9Tcd7b6DHt",
        "colab_type": "code",
        "colab": {}
      },
      "source": [
        "# def get_model(data,lr=0.5,nh=50):\n",
        "#   m=data.train_ds.x.shape[1]\n",
        "#   model=nn.Sequential(nn.Linear(m,nh),nn.ReLU(),nn.Linear(nh,data.c))\n",
        "#   return model,optim.SGD(model.parameters(),lr=lr)\n",
        "\n",
        "# class Learner():\n",
        "#   def __init__(self,model,opt,loss_func,data):\n",
        "#     self.model,self.opt,self.loss_func,self.data=model,opt,loss_func,data\n",
        "\n",
        "\n",
        "#export\n",
        "def get_model(data, lr=0.5, nh=50):\n",
        "    m = data.train_ds.x.shape[1]\n",
        "    model = nn.Sequential(nn.Linear(m,nh), nn.ReLU(), nn.Linear(nh,data.c))\n",
        "    return model, optim.SGD(model.parameters(), lr=lr)\n",
        "\n",
        "class Learner():\n",
        "    def __init__(self, model, opt, loss_func, data):\n",
        "        self.model,self.opt,self.loss_func,self.data = model,opt,loss_func,data"
      ],
      "execution_count": null,
      "outputs": []
    },
    {
      "cell_type": "code",
      "metadata": {
        "id": "VrB13HOF6I_P",
        "colab_type": "code",
        "colab": {}
      },
      "source": [
        "model,opt=get_model(data,lr=0.5,nh=50)\n"
      ],
      "execution_count": null,
      "outputs": []
    },
    {
      "cell_type": "code",
      "metadata": {
        "id": "eU_F6MALbIZd",
        "colab_type": "code",
        "colab": {}
      },
      "source": [
        "learn = Learner(*get_model(data), loss_func, data)"
      ],
      "execution_count": null,
      "outputs": []
    },
    {
      "cell_type": "code",
      "metadata": {
        "id": "1vfqmJX8chuw",
        "colab_type": "code",
        "colab": {}
      },
      "source": [
        "def fit(epochs, learn):\n",
        "  for epoch in range(epochs):\n",
        "    learn.model.train()\n",
        "    for xb,yb in learn.data.train_dl:\n",
        "      loss=learn.loss_func(learn.model(xb),yb)\n",
        "      loss.backward()\n",
        "      learn.opt.step()\n",
        "      learn.opt.zero_grad()\n",
        "\n",
        "    learn.model.eval()\n",
        "    with torch.no_grad():\n",
        "      tot_acc,tot_loss=0.0,0.0\n",
        "      for xb,yb in learn.data.valid_dl:\n",
        "        pred=learn.model(xb)\n",
        "        tot_acc+=accuracy(pred,yb)\n",
        "        tot_loss+=learn.loss_func(pred,yb)\n",
        "      nv=len(learn.data.valid_dl)\n",
        "      tot_loss=tot_loss/nv\n",
        "      tot_acc=tot_acc/nv\n",
        "\n",
        "      print(epoch,tot_loss,tot_acc)\n",
        "    \n",
        "    return tot_loss/nv, tot_acc/nv"
      ],
      "execution_count": null,
      "outputs": []
    },
    {
      "cell_type": "code",
      "metadata": {
        "id": "koyfVR_fchr4",
        "colab_type": "code",
        "colab": {
          "base_uri": "https://localhost:8080/",
          "height": 36
        },
        "outputId": "51f79aca-0b52-4f97-9fea-a101f2a0d418"
      },
      "source": [
        "loss,acc = fit(1, learn)"
      ],
      "execution_count": null,
      "outputs": [
        {
          "output_type": "stream",
          "text": [
            "0 tensor(0.2592) tensor(0.9207)\n"
          ],
          "name": "stdout"
        }
      ]
    },
    {
      "cell_type": "markdown",
      "metadata": {
        "id": "VH_lH9rOA6tB",
        "colab_type": "text"
      },
      "source": [
        "## CallbackHandler"
      ]
    },
    {
      "cell_type": "markdown",
      "metadata": {
        "id": "5xqKXUZrA-UI",
        "colab_type": "text"
      },
      "source": [
        "This was our training loop (without validation) from the previous notebook, with the inner loop contents factored out:\n",
        "\n",
        "```python\n",
        "def one_batch(xb,yb):\n",
        "    pred = model(xb)\n",
        "    loss = loss_func(pred, yb)\n",
        "    loss.backward()\n",
        "    opt.step()\n",
        "    opt.zero_grad()\n",
        "    \n",
        "def fit():\n",
        "    for epoch in range(epochs):\n",
        "        for b in train_dl: one_batch(*b)\n",
        "```"
      ]
    },
    {
      "cell_type": "code",
      "metadata": {
        "id": "KF45p2f1bRc7",
        "colab_type": "code",
        "colab": {}
      },
      "source": [
        "def one_batch(xb,yb,cb):\n",
        "  if not cb.begin_batch(xb,yb) :return\n",
        "  loss=cb.learn.loss_func(cb.learn.model(xb),yb)\n",
        "  if not cb.after_loss(loss):return\n",
        "  loss.backward()\n",
        "  if cb.after_backward():cb.learn.opt.step()\n",
        "  if cb.after_step():cb.learn.opt.zero_grad()\n",
        "\n",
        "def all_batches(dl,cb):\n",
        "  for xb,yb in dl:\n",
        "    one_batch(xb,yb,cb)\n",
        "    if cb.do_stop():return\n",
        "\n",
        "def fit(epochs,learn,cb):\n",
        "  if not cb.begin_fit(learn) : return\n",
        "  for epoch in range(epochs):\n",
        "    if not cb.begin_epoch(epoch): return\n",
        "    all_batches(learn.data.train_dl,cb)\n",
        "\n",
        "    if cb.begin_validate():\n",
        "      with torch.no_grad():\n",
        "        all_batches(learn.data.valid_dl,cb)\n",
        "        if cb.do_stop() or cb.after_epoch(): break\n",
        "  cb.after_fit()\n",
        "\n",
        "# class Callback():\n",
        "#     def begin_fit(self, learn):\n",
        "#         self.learn = learn\n",
        "#         return True\n",
        "#     def after_fit(self): return True\n",
        "#     def begin_epoch(self, epoch):\n",
        "#         self.epoch=epoch\n",
        "#         return True\n",
        "#     def begin_validate(self): return True\n",
        "#     def after_epoch(self): return True\n",
        "#     def begin_batch(self, xb, yb):\n",
        "#         self.xb,self.yb = xb,yb\n",
        "#         return True\n",
        "#     def after_loss(self, loss):\n",
        "#         self.loss = loss\n",
        "#         return True\n",
        "#     def after_backward(self): return True\n",
        "#     def after_step(self): return True"
      ],
      "execution_count": null,
      "outputs": []
    },
    {
      "cell_type": "code",
      "metadata": {
        "id": "rclUcbD9bWtz",
        "colab_type": "code",
        "colab": {}
      },
      "source": [
        "class Callback():\n",
        "  def begin_fit(self,learn):\n",
        "    self.learn=learn\n",
        "    return True\n",
        "  \n",
        "  def after_fit(self):return True\n",
        "\n",
        "  def begin_epoch(self,epoch):\n",
        "      self.epoch=epoch\n",
        "      return True\n",
        "  \n",
        "  def begin_validate(self): return True\n",
        "\n",
        "  def after_epoch(self):\n",
        "    return True\n",
        "  \n",
        "  def begin_batch(self,xb,yb):\n",
        "    self.xb=xb\n",
        "    self.yb=yb\n",
        "    return True\n",
        "  \n",
        "  def after_loss(self,loss):\n",
        "    self.loss=loss\n",
        "    return True\n",
        "  \n",
        "  def after_backward(self):\n",
        "    return True\n",
        "  \n",
        "  def after_step(self):\n",
        "    return True\n",
        "\n",
        "# class Callback():\n",
        "#     def begin_fit(self, learn):\n",
        "#         self.learn = learn\n",
        "#         return True\n",
        "#     def after_fit(self): return True\n",
        "#     def begin_epoch(self, epoch):\n",
        "#         self.epoch=epoch\n",
        "#         return True\n",
        "#     def begin_validate(self): return True\n",
        "#     def after_epoch(self): return True\n",
        "#     def begin_batch(self, xb, yb):\n",
        "#         self.xb,self.yb = xb,yb\n",
        "#         return True\n",
        "#     def after_loss(self, loss):\n",
        "#         self.loss = loss\n",
        "#         return True\n",
        "#     def after_backward(self): return True\n",
        "#     def after_step(self): return True"
      ],
      "execution_count": null,
      "outputs": []
    },
    {
      "cell_type": "code",
      "metadata": {
        "id": "-9ez4SyVJ24Y",
        "colab_type": "code",
        "colab": {}
      },
      "source": [
        "# class CallbackHandler():\n",
        "#   def __init__(self,cbs=None):\n",
        "#     self.cbs=cbs if cbs else []\n",
        "\n",
        "#   def begin_fit(self,learn):\n",
        "#     self.learn,self.in_train=learn,True\n",
        "#     res=True\n",
        "#     for cb in self.cbs: res=res and cb.begin_fit(learn)\n",
        "#     return result\n",
        "  \n",
        "#   def after_fit():\n",
        "#     res=not self.in_train\n",
        "#     for cb in self.cbs:res=res and cb.after_fit()\n",
        "#     return res\n",
        "  \n",
        "#   def begin_epoch(self,epoch):\n",
        "#     self.learn.model.train()\n",
        "#     self.in_train=True\n",
        "#     res=True\n",
        "#     for cb in self.cbs:res=res and cb.begin_epoch(epoch)\n",
        "#     return res\n",
        "\n",
        "#   def begin_validate(self):\n",
        "#     self.learn.model.valid()\n",
        "#     self.in_train=True\n",
        "#     res=True\n",
        "#     for cb in self.cbs:res=res and cb.begin_validate()\n",
        "#     return True\n",
        "  \n",
        "#   def after_epoch(self):\n",
        "#     res=True\n",
        "#     for cb in self.cbs:res=res and cb.after_epoch()\n",
        "#     return True\n",
        "\n",
        "#   def begin_batch(self,xb,yb):\n",
        "#     self.xb,self.yb=xb,yb\n",
        "#     res=True\n",
        "#     for cb in self.cbs:res and cb.begin_batch() \n",
        "  \n",
        "#   def after_loss(self,loss):\n",
        "#     self.loss=self.in_train\n",
        "#     res=True\n",
        "#     for cb in self.cbs :res=res and cb.after_loss(loss)\n",
        "#     return loss\n",
        "  \n",
        "#   def after_backward(self):\n",
        "#     res=True\n",
        "#     for cb in self.cbs :res=res and cb.after_backward()\n",
        "\n",
        "#   def after_step(self):\n",
        "#     res = True\n",
        "#     for cb in self.cbs: res = res and cb.after_step()\n",
        "#     return res\n",
        "    \n",
        "#   def do_stop(self):\n",
        "#     try:     return self.learn.stop\n",
        "#     finally: self.learn.stop = False\n",
        "    \n",
        "class CallbackHandler():\n",
        "    def __init__(self,cbs=None):\n",
        "        self.cbs = cbs if cbs else []\n",
        "\n",
        "    def begin_fit(self, learn):\n",
        "        self.learn,self.in_train = learn,True\n",
        "        learn.stop = False\n",
        "        res = True\n",
        "        for cb in self.cbs: res = res and cb.begin_fit(learn)\n",
        "        return res\n",
        "\n",
        "    def after_fit(self):\n",
        "        res = not self.in_train\n",
        "        for cb in self.cbs: res = res and cb.after_fit()\n",
        "        return res\n",
        "    \n",
        "    def begin_epoch(self, epoch):\n",
        "        self.learn.model.train()\n",
        "        self.in_train=True\n",
        "        res = True\n",
        "        for cb in self.cbs: res = res and cb.begin_epoch(epoch)\n",
        "        return res\n",
        "\n",
        "    def begin_validate(self):\n",
        "        self.learn.model.eval()\n",
        "        self.in_train=False\n",
        "        res = True\n",
        "        for cb in self.cbs: res = res and cb.begin_validate()\n",
        "        return res\n",
        "\n",
        "    def after_epoch(self):\n",
        "        res = True\n",
        "        for cb in self.cbs: res = res and cb.after_epoch()\n",
        "        return res\n",
        "    \n",
        "    def begin_batch(self, xb, yb):\n",
        "        res = True\n",
        "        for cb in self.cbs: res = res and cb.begin_batch(xb, yb)\n",
        "        return res\n",
        "\n",
        "    def after_loss(self, loss):\n",
        "        res = self.in_train\n",
        "        for cb in self.cbs: res = res and cb.after_loss(loss)\n",
        "        return res\n",
        "\n",
        "    def after_backward(self):\n",
        "        res = True\n",
        "        for cb in self.cbs: res = res and cb.after_backward()\n",
        "        return res\n",
        "\n",
        "    def after_step(self):\n",
        "        res = True\n",
        "        for cb in self.cbs: res = res and cb.after_step()\n",
        "        return res\n",
        "    \n",
        "    def do_stop(self):\n",
        "        try:     return self.learn.stop\n",
        "        finally: self.learn.stop = False"
      ],
      "execution_count": null,
      "outputs": []
    },
    {
      "cell_type": "code",
      "metadata": {
        "id": "mVK-n9DUVaOw",
        "colab_type": "code",
        "colab": {}
      },
      "source": [
        "# class TestCallback(Callback):\n",
        "#   def begin_fit(learn):\n",
        "#     super().begin_fit()\n",
        "#     self.n_iter=0\n",
        "#     return True\n",
        "  \n",
        "#   def after_step(self):\n",
        "#     self.n_iter+=1\n",
        "#     print(self.n_iter)\n",
        "#     if self.n_iter>=10: self.learn.stop=True\n",
        "\n",
        "#     return True\n",
        "\n",
        "\n",
        "class TestCallback(Callback):\n",
        "    def begin_fit(self,learn):\n",
        "        super().begin_fit(learn)\n",
        "        self.n_iters = 0\n",
        "        return True\n",
        "        \n",
        "    def after_step(self):\n",
        "        self.n_iters += 1\n",
        "        print(self.n_iters)\n",
        "        if self.n_iters>=10: self.learn.stop = True\n",
        "        return True"
      ],
      "execution_count": null,
      "outputs": []
    },
    {
      "cell_type": "code",
      "metadata": {
        "id": "_C-SggXNYXBa",
        "colab_type": "code",
        "colab": {
          "base_uri": "https://localhost:8080/",
          "height": 204
        },
        "outputId": "14cb0628-7e8f-494c-fa69-d56310925f3a"
      },
      "source": [
        "fit(1, learn, cb=CallbackHandler([TestCallback()]))"
      ],
      "execution_count": null,
      "outputs": [
        {
          "output_type": "stream",
          "text": [
            "1\n",
            "2\n",
            "3\n",
            "4\n",
            "5\n",
            "6\n",
            "7\n",
            "8\n",
            "9\n",
            "10\n"
          ],
          "name": "stdout"
        }
      ]
    },
    {
      "cell_type": "markdown",
      "metadata": {
        "id": "h70HUY9H5biE",
        "colab_type": "text"
      },
      "source": [
        "## Runner"
      ]
    },
    {
      "cell_type": "code",
      "metadata": {
        "id": "otU9O_hb3QXM",
        "colab_type": "code",
        "colab": {}
      },
      "source": [
        "import re\n",
        "\n",
        "_camel_re1 = re.compile('(.)([A-Z][a-z]+)')\n",
        "_camel_re2 = re.compile('([a-z0-9])([A-Z])')\n",
        "def camel2snake(name):\n",
        "    s1 = re.sub(_camel_re1, r'\\1_\\2', name)\n",
        "    return re.sub(_camel_re2, r'\\1_\\2', s1).lower()\n",
        "\n",
        "class Callback():\n",
        "  _order=0\n",
        "  def set_runner(self,run):self.run=run\n",
        "\n",
        "  def __getattr__(self,k):return getattr(self.run, k)\n",
        "\n",
        "  @property\n",
        "  def name(self):\n",
        "    name = re.sub(r'Callback$', '', self.__class__.__name__)\n",
        "    return camel2snake(name or 'callback')"
      ],
      "execution_count": null,
      "outputs": []
    },
    {
      "cell_type": "markdown",
      "metadata": {
        "id": "nBZ_dLVneUiP",
        "colab_type": "text"
      },
      "source": [
        "This first callback is reponsible to switch the model back and forth in training or validation mode, as well as maintaining a count of the iterations, or the percentage of iterations ellapsed in the epoch."
      ]
    },
    {
      "cell_type": "code",
      "metadata": {
        "id": "fYje2I2qeRu9",
        "colab_type": "code",
        "colab": {}
      },
      "source": [
        "# class TrainEvalCallback(Callback):\n",
        "#   def begin_fit(self):\n",
        "#     self.epoch=epoch\n",
        "#     self.n_iter=0\n",
        "  \n",
        "#   def after_batch(self):\n",
        "#     if not self.in_train :return\n",
        "#     self.run.n_epochs+=1./self.no_iter\n",
        "#     self.un.n_iter+=1\n",
        "  \n",
        "#   def begin_epoch(self):\n",
        "#     self.run.n_epochs=self.epoch\n",
        "#     self.model.train()\n",
        "#     self.model.in_train=True\n",
        "  \n",
        "#   def begin_validate(self):\n",
        "#     self.model.eval()\n",
        "#     self.model.in_train=False\n",
        "\n",
        "\n",
        "#export\n",
        "class TrainEvalCallback(Callback):\n",
        "    def begin_fit(self):\n",
        "        self.run.n_epochs=0.\n",
        "        self.run.n_iter=0\n",
        "    \n",
        "    def after_batch(self):\n",
        "        if not self.in_train: return\n",
        "        self.run.n_epochs += 1./self.iters\n",
        "        self.run.n_iter   += 1\n",
        "        \n",
        "    def begin_epoch(self):\n",
        "        self.run.n_epochs=self.epoch\n",
        "        self.model.train()\n",
        "        self.run.in_train=True\n",
        "\n",
        "    def begin_validate(self):\n",
        "        self.model.eval()\n",
        "        self.run.in_train=False"
      ],
      "execution_count": null,
      "outputs": []
    },
    {
      "cell_type": "code",
      "metadata": {
        "id": "WiYYcsYe4Ora",
        "colab_type": "code",
        "colab": {}
      },
      "source": [
        "class TestCallback(Callback):\n",
        "  def after_step(self):\n",
        "    if self.n_iter>=10: return True"
      ],
      "execution_count": null,
      "outputs": []
    },
    {
      "cell_type": "code",
      "metadata": {
        "id": "4OJzyuqu5DuX",
        "colab_type": "code",
        "colab": {
          "base_uri": "https://localhost:8080/",
          "height": 36
        },
        "outputId": "ae20cfb4-c638-4d4a-bc47-3d7f387a28fd"
      },
      "source": [
        "cbname = 'TrainEvalCallback'\n",
        "camel2snake(cbname)"
      ],
      "execution_count": null,
      "outputs": [
        {
          "output_type": "execute_result",
          "data": {
            "application/vnd.google.colaboratory.intrinsic": {
              "type": "string"
            },
            "text/plain": [
              "'train_eval_callback'"
            ]
          },
          "metadata": {
            "tags": []
          },
          "execution_count": 32
        }
      ]
    },
    {
      "cell_type": "code",
      "metadata": {
        "id": "lbXSIqaJ5LK1",
        "colab_type": "code",
        "colab": {
          "base_uri": "https://localhost:8080/",
          "height": 36
        },
        "outputId": "4956ec30-52ed-49b8-fc44-924a48dc5919"
      },
      "source": [
        "TrainEvalCallback().name"
      ],
      "execution_count": null,
      "outputs": [
        {
          "output_type": "execute_result",
          "data": {
            "application/vnd.google.colaboratory.intrinsic": {
              "type": "string"
            },
            "text/plain": [
              "'train_eval'"
            ]
          },
          "metadata": {
            "tags": []
          },
          "execution_count": 33
        }
      ]
    },
    {
      "cell_type": "code",
      "metadata": {
        "id": "ofydvGFz5Oh6",
        "colab_type": "code",
        "colab": {}
      },
      "source": [
        "#export\n",
        "from typing import *\n",
        "\n",
        "def listify(o):\n",
        "    if o is None: return []\n",
        "    if isinstance(o, list): return o\n",
        "    if isinstance(o, str): return [o]\n",
        "    if isinstance(o, Iterable): return list(o)\n",
        "    return [o]"
      ],
      "execution_count": null,
      "outputs": []
    },
    {
      "cell_type": "code",
      "metadata": {
        "id": "i9jH5F6EzI0t",
        "colab_type": "code",
        "colab": {}
      },
      "source": [
        "# class Runner():\n",
        "#   def __init__(self,cbs=None,cb_funcs=None):\n",
        "#     cbs=listify(cbs)\n",
        "#     for cbf in listify(cb_funcs):\n",
        "#       cb=cbf()\n",
        "#       setattr(self,cb.name,cb)\n",
        "#       cbs.append(cb)\n",
        "#     self.stop,self.cbs=False,[TrainEvalCallback()]+cbs\n",
        "\n",
        "#     @property\n",
        "#     def opt(self): return self.learn.opt\n",
        "\n",
        "#     @property\n",
        "#     def model(self):return self.learn.model\n",
        "\n",
        "#     @property\n",
        "#     def loss_func(self): return self.learn.loss_func\n",
        "\n",
        "#     @property\n",
        "#     def data(self):return self.learn.data\n",
        "\n",
        "#     def one_batch(self,xb,yb):\n",
        "#       self.xb,self.yb=xb,yb\n",
        "\n",
        "#       if self('begin_batch'): return\n",
        "#       self.pred=self.model(self.xb)\n",
        "#       if self('after_pred'):return\n",
        "#       self.loss=self.loss_func(self.pred,self.yb)\n",
        "#       if self('after_loss'):return True\n",
        "#       self.loss.backward()\n",
        "#       if self('after_backward'):return\n",
        "#       self.opt.step()\n",
        "#       if self('after_step'):return\n",
        "#       self.opt.zero_grad()\n",
        "    \n",
        "#     def all_batches(self,dl):\n",
        "#       self.iter=len(dl)\n",
        "#       for xb,yb in self.dl:\n",
        "#         self.one_batch(xb,yb)\n",
        "#         self('after_batch')\n",
        "#       self.stop=False\n",
        "\n",
        "#     def fit(self, epochs, learn):\n",
        "#       self.epochs,self.learn=epochs,learn\n",
        "\n",
        "#       try:\n",
        "#         for cb in self.cbs: cb.set_runner(self)\n",
        "#         if self('begin_fit'): return\n",
        "\n",
        "#         for epoch in range(self.epochs):\n",
        "#           self.epoch=epoch\n",
        "#           if not self('begin_epoch'): self.all_batches(self.data.train_dl)\n",
        "\n",
        "#           with torch.no_grad():\n",
        "#             if not self('begin_validate'): self.all_batches(self.data.valid_dl)\n",
        "#           if self('after_epoch'):break\n",
        "      \n",
        "#       finally:\n",
        "#         self('after_fit')\n",
        "#         self.learn=None\n",
        "\n",
        "\n",
        "#     def __call__(self):\n",
        "#       for cb in sorted(self.cbs,key=lambda x: x._order):\n",
        "#         f=getattr(cb,cb_name)\n",
        "#         if f and f(): return True\n",
        "#       return False\n",
        "\n",
        "#export\n",
        "class Runner():\n",
        "    def __init__(self, cbs=None, cb_funcs=None):\n",
        "        cbs = listify(cbs)\n",
        "        for cbf in listify(cb_funcs):\n",
        "            cb = cbf()\n",
        "            setattr(self, cb.name, cb)\n",
        "            cbs.append(cb)\n",
        "        self.stop,self.cbs = False,[TrainEvalCallback()]+cbs\n",
        "\n",
        "    @property\n",
        "    def opt(self):       return self.learn.opt\n",
        "    @property\n",
        "    def model(self):     return self.learn.model\n",
        "    @property\n",
        "    def loss_func(self): return self.learn.loss_func\n",
        "    @property\n",
        "    def data(self):      return self.learn.data\n",
        "\n",
        "    def one_batch(self, xb, yb):\n",
        "        self.xb,self.yb = xb,yb\n",
        "        if self('begin_batch'): return\n",
        "        self.pred = self.model(self.xb)\n",
        "        if self('after_pred'): return\n",
        "        self.loss = self.loss_func(self.pred, self.yb)\n",
        "        if self('after_loss') or not self.in_train: return\n",
        "        self.loss.backward()\n",
        "        if self('after_backward'): return\n",
        "        self.opt.step()\n",
        "        if self('after_step'): return\n",
        "        self.opt.zero_grad()\n",
        "\n",
        "    def all_batches(self, dl):\n",
        "        self.iters = len(dl)\n",
        "        for xb,yb in dl:\n",
        "            if self.stop: break\n",
        "            self.one_batch(xb, yb)\n",
        "            self('after_batch')\n",
        "        self.stop=False\n",
        "\n",
        "    def fit(self, epochs, learn):\n",
        "        self.epochs,self.learn = epochs,learn\n",
        "\n",
        "        try:\n",
        "            for cb in self.cbs: cb.set_runner(self)\n",
        "            if self('begin_fit'): return\n",
        "            for epoch in range(epochs):\n",
        "                self.epoch = epoch\n",
        "                if not self('begin_epoch'): self.all_batches(self.data.train_dl)\n",
        "\n",
        "                with torch.no_grad(): \n",
        "                    if not self('begin_validate'): self.all_batches(self.data.valid_dl)\n",
        "                if self('after_epoch'): break\n",
        "            \n",
        "        finally:\n",
        "            self('after_fit')\n",
        "            self.learn = None\n",
        "\n",
        "    def __call__(self, cb_name):\n",
        "        for cb in sorted(self.cbs, key=lambda x: x._order):\n",
        "            f = getattr(cb, cb_name, None)\n",
        "            if f and f(): return True\n",
        "        return False"
      ],
      "execution_count": null,
      "outputs": []
    },
    {
      "cell_type": "code",
      "metadata": {
        "id": "ZbJxr7Zf9rvd",
        "colab_type": "code",
        "colab": {}
      },
      "source": [
        "# class AvgStats():\n",
        "#   def __init__(self,metrics,in_train):\n",
        "#     self.metrics,self.in_train=listify(metrics),in_train\n",
        "  \n",
        "#   def reset(self):\n",
        "#     self.tot_loss,self.count=0.0,0\n",
        "#     self.tot_mets=[0.]*len(self.metrics)\n",
        "\n",
        "#   @property\n",
        "#   def all_stats(self):return [self.tot_loss.item()]+self.tot_mets\n",
        "\n",
        "#   @property\n",
        "#   def avg_stats(self):[o/self.count for o in self.all_stats]\n",
        "\n",
        "#   def __repr__(self):\n",
        "#     if not self.count: return \"\"\n",
        "#     return f\"{'train' if self.in_train else 'valid'}: {self.avg_stats}\"\n",
        "  \n",
        "#   def accumulate(self,run):\n",
        "#     bn = run.xb.shape[0]\n",
        "#     self.tot_loss += run.loss * bn\n",
        "#     self.count += bn\n",
        "#     for i,m in enumerate(self.metrics):\n",
        "#       self.tot_mets[i] += m(run.pred, run.yb) * bn\n",
        "\n",
        "\n",
        "# class AvgStatsCallback(Callback):\n",
        "#     def __init__(self, metrics):\n",
        "#         self.train_stats,self.valid_stats = AvgStats(metrics,True),AvgStats(metrics,False)\n",
        "        \n",
        "#     def begin_epoch(self):\n",
        "#         self.train_stats.reset()\n",
        "#         self.valid_stats.reset()\n",
        "        \n",
        "#     def after_loss(self):\n",
        "#         stats = self.train_stats if self.in_train else self.valid_stats\n",
        "#         with torch.no_grad(): stats.accumulate(self.run)\n",
        "    \n",
        "#     def after_epoch(self):\n",
        "#         print(self.train_stats)\n",
        "#         print(self.valid_stats)\n",
        "\n",
        "#export\n",
        "class AvgStats():\n",
        "    def __init__(self, metrics, in_train): self.metrics,self.in_train = listify(metrics),in_train\n",
        "    \n",
        "    def reset(self):\n",
        "        self.tot_loss,self.count = 0.,0\n",
        "        self.tot_mets = [0.] * len(self.metrics)\n",
        "        \n",
        "    @property\n",
        "    def all_stats(self): return [self.tot_loss.item()] + self.tot_mets\n",
        "    @property\n",
        "    def avg_stats(self): return [o/self.count for o in self.all_stats]\n",
        "    \n",
        "    def __repr__(self):\n",
        "        if not self.count: return \"\"\n",
        "        return f\"{'train' if self.in_train else 'valid'}: {self.avg_stats}\"\n",
        "\n",
        "    def accumulate(self, run):\n",
        "        bn = run.xb.shape[0]\n",
        "        self.tot_loss += run.loss * bn\n",
        "        self.count += bn\n",
        "        for i,m in enumerate(self.metrics):\n",
        "            self.tot_mets[i] += m(run.pred, run.yb) * bn\n",
        "\n",
        "class AvgStatsCallback(Callback):\n",
        "  def __init__(self,metrics):\n",
        "    self.train_stats,self.valid_stats=AvgStats(metrics,True),AvgStats(metrics,False)\n",
        "  \n",
        "  def begin_epoch(self):\n",
        "    self.train_stats.reset()\n",
        "    self.valid_stats.reset()\n",
        "  \n",
        "  def after_loss(self):\n",
        "    stats=self.train_stats if self.in_train else self.valid_stats\n",
        "    with torch.no_grad():stats.accumulate(self.run)\n",
        "  \n",
        "  def after_epoch(self):\n",
        "    print(self.train_stats)\n",
        "    print(self.valid_stats)\n"
      ],
      "execution_count": null,
      "outputs": []
    },
    {
      "cell_type": "code",
      "metadata": {
        "id": "HS3ZtlQ54sr8",
        "colab_type": "code",
        "colab": {}
      },
      "source": [
        "# class AvgStatsCallback(Callback):\n",
        "#     def __init__(self, metrics):\n",
        "#         self.train_stats,self.valid_stats = AvgStats(metrics,True),AvgStats(metrics,False)\n",
        "        \n",
        "#     def begin_epoch(self):\n",
        "#         self.train_stats.reset()\n",
        "#         self.valid_stats.reset()\n",
        "        \n",
        "#     def after_loss(self):\n",
        "#         stats = self.train_stats if self.in_train else self.valid_stats\n",
        "#         with torch.no_grad(): stats.accumulate(self.run)\n",
        "    \n",
        "#     def after_epoch(self):\n",
        "#         print(self.train_stats)\n",
        "#         print(self.valid_stats)"
      ],
      "execution_count": null,
      "outputs": []
    },
    {
      "cell_type": "code",
      "metadata": {
        "id": "nZSlFf-fkNcH",
        "colab_type": "code",
        "colab": {}
      },
      "source": [
        "learn = Learner(*get_model(data), loss_func, data)"
      ],
      "execution_count": null,
      "outputs": []
    },
    {
      "cell_type": "code",
      "metadata": {
        "id": "PqQ4ByHOkNcK",
        "colab_type": "code",
        "colab": {}
      },
      "source": [
        "stats = AvgStatsCallback([accuracy])\n",
        "run = Runner(cbs=stats)"
      ],
      "execution_count": null,
      "outputs": []
    },
    {
      "cell_type": "code",
      "metadata": {
        "id": "c7YQ-d5NkNcP",
        "colab_type": "code",
        "colab": {
          "base_uri": "https://localhost:8080/",
          "height": 92
        },
        "outputId": "1ac393d9-6ded-423e-8b6f-4acddd1269bb"
      },
      "source": [
        "run.fit(2, learn)"
      ],
      "execution_count": null,
      "outputs": [
        {
          "output_type": "stream",
          "text": [
            "train: [0.3218599609375, tensor(0.9005)]\n",
            "valid: [0.19781746826171875, tensor(0.9425)]\n",
            "train: [0.1491123828125, tensor(0.9552)]\n",
            "valid: [0.169746630859375, tensor(0.9462)]\n"
          ],
          "name": "stdout"
        }
      ]
    },
    {
      "cell_type": "code",
      "metadata": {
        "id": "MjANhmW7kNcS",
        "colab_type": "code",
        "colab": {}
      },
      "source": [
        "loss,acc = stats.valid_stats.avg_stats\n",
        "assert acc>0.9\n",
        "loss,acc"
      ],
      "execution_count": null,
      "outputs": []
    },
    {
      "cell_type": "code",
      "metadata": {
        "id": "vVq2u7_RrQsL",
        "colab_type": "code",
        "colab": {}
      },
      "source": [
        "from functools import partial"
      ],
      "execution_count": null,
      "outputs": []
    },
    {
      "cell_type": "code",
      "metadata": {
        "id": "iff5thvqrRNG",
        "colab_type": "code",
        "colab": {}
      },
      "source": [
        "acc_cbf=partial(AvgStatsCallback,accuracy)"
      ],
      "execution_count": null,
      "outputs": []
    },
    {
      "cell_type": "code",
      "metadata": {
        "id": "bwwH5Mr9rb6h",
        "colab_type": "code",
        "colab": {}
      },
      "source": [
        "run = Runner(cb_funcs=acc_cbf)"
      ],
      "execution_count": null,
      "outputs": []
    },
    {
      "cell_type": "code",
      "metadata": {
        "id": "5cdV_yo1rgi0",
        "colab_type": "code",
        "colab": {
          "base_uri": "https://localhost:8080/",
          "height": 92
        },
        "outputId": "c5e0aef2-74a4-4942-9b61-ac9e0ce90f56"
      },
      "source": [
        "run.fit(2, learn)"
      ],
      "execution_count": null,
      "outputs": [
        {
          "output_type": "stream",
          "text": [
            "train: [0.112116357421875, tensor(0.9656)]\n",
            "valid: [0.11161458740234376, tensor(0.9676)]\n",
            "train: [0.090195517578125, tensor(0.9724)]\n",
            "valid: [0.1058713134765625, tensor(0.9706)]\n"
          ],
          "name": "stdout"
        }
      ]
    },
    {
      "cell_type": "code",
      "metadata": {
        "id": "8MBFqjU1rhpl",
        "colab_type": "code",
        "colab": {
          "base_uri": "https://localhost:8080/",
          "height": 36
        },
        "outputId": "51874bd2-cd9b-49ab-d37d-62102f560348"
      },
      "source": [
        "run.avg_stats.valid_stats.avg_stats"
      ],
      "execution_count": null,
      "outputs": [
        {
          "output_type": "execute_result",
          "data": {
            "text/plain": [
              "[0.1058713134765625, tensor(0.9706)]"
            ]
          },
          "metadata": {
            "tags": []
          },
          "execution_count": 78
        }
      ]
    },
    {
      "cell_type": "code",
      "metadata": {
        "id": "dS-m0ae7rvM-",
        "colab_type": "code",
        "colab": {}
      },
      "source": [
        ""
      ],
      "execution_count": null,
      "outputs": []
    }
  ]
}
