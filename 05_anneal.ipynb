{
  "nbformat": 4,
  "nbformat_minor": 0,
  "metadata": {
    "colab": {
      "name": "05_anneal.ipynb",
      "provenance": [],
      "toc_visible": true,
      "authorship_tag": "ABX9TyOvAPzQbnAr8iPoocj2R84S",
      "include_colab_link": true
    },
    "kernelspec": {
      "name": "python3",
      "display_name": "Python 3"
    }
  },
  "cells": [
    {
      "cell_type": "markdown",
      "metadata": {
        "id": "view-in-github",
        "colab_type": "text"
      },
      "source": [
        "<a href=\"https://colab.research.google.com/github/sauravakolia/Fastai2/blob/master/05_anneal.ipynb\" target=\"_parent\"><img src=\"https://colab.research.google.com/assets/colab-badge.svg\" alt=\"Open In Colab\"/></a>"
      ]
    },
    {
      "cell_type": "code",
      "metadata": {
        "id": "gnLLBtzlul1r",
        "colab_type": "code",
        "colab": {}
      },
      "source": [
        "%load_ext autoreload\n",
        "%autoreload 2\n",
        "%matplotlib inline"
      ],
      "execution_count": 1,
      "outputs": []
    },
    {
      "cell_type": "code",
      "metadata": {
        "id": "O2j_6oVGv2dx",
        "colab_type": "code",
        "colab": {
          "base_uri": "https://localhost:8080/",
          "height": 129
        },
        "outputId": "2bf9e088-01bc-4b34-cb32-901966f10e79"
      },
      "source": [
        "!git clone https://github.com/sauravakolia/Fastai2.git"
      ],
      "execution_count": 2,
      "outputs": [
        {
          "output_type": "stream",
          "text": [
            "Cloning into 'Fastai2'...\n",
            "remote: Enumerating objects: 92, done.\u001b[K\n",
            "remote: Counting objects: 100% (92/92), done.\u001b[K\n",
            "remote: Compressing objects: 100% (81/81), done.\u001b[K\n",
            "remote: Total 92 (delta 49), reused 19 (delta 8), pack-reused 0\u001b[K\n",
            "Unpacking objects: 100% (92/92), done.\n"
          ],
          "name": "stdout"
        }
      ]
    },
    {
      "cell_type": "code",
      "metadata": {
        "id": "cnQ5pWYqv3kX",
        "colab_type": "code",
        "colab": {}
      },
      "source": [
        "# %cd \"/content/Fastai2/\"\n",
        "import sys\n",
        "sys.path.append('/content/Fastai2/')"
      ],
      "execution_count": 3,
      "outputs": []
    },
    {
      "cell_type": "code",
      "metadata": {
        "id": "BtlVwdKTuxbf",
        "colab_type": "code",
        "colab": {
          "base_uri": "https://localhost:8080/",
          "height": 262
        },
        "outputId": "242a1c49-879e-4418-fa3a-0a7eef6e4bc8"
      },
      "source": [
        "!pip install fire"
      ],
      "execution_count": 4,
      "outputs": [
        {
          "output_type": "stream",
          "text": [
            "Collecting fire\n",
            "\u001b[?25l  Downloading https://files.pythonhosted.org/packages/34/a7/0e22e70778aca01a52b9c899d9c145c6396d7b613719cd63db97ffa13f2f/fire-0.3.1.tar.gz (81kB)\n",
            "\r\u001b[K     |████                            | 10kB 16.9MB/s eta 0:00:01\r\u001b[K     |████████                        | 20kB 2.2MB/s eta 0:00:01\r\u001b[K     |████████████▏                   | 30kB 2.7MB/s eta 0:00:01\r\u001b[K     |████████████████▏               | 40kB 3.0MB/s eta 0:00:01\r\u001b[K     |████████████████████▏           | 51kB 2.5MB/s eta 0:00:01\r\u001b[K     |████████████████████████▎       | 61kB 2.8MB/s eta 0:00:01\r\u001b[K     |████████████████████████████▎   | 71kB 3.1MB/s eta 0:00:01\r\u001b[K     |████████████████████████████████| 81kB 2.5MB/s \n",
            "\u001b[?25hRequirement already satisfied: six in /usr/local/lib/python3.6/dist-packages (from fire) (1.12.0)\n",
            "Requirement already satisfied: termcolor in /usr/local/lib/python3.6/dist-packages (from fire) (1.1.0)\n",
            "Building wheels for collected packages: fire\n",
            "  Building wheel for fire (setup.py) ... \u001b[?25l\u001b[?25hdone\n",
            "  Created wheel for fire: filename=fire-0.3.1-py2.py3-none-any.whl size=111005 sha256=d7b0ea1eb6aff4b36a14269ca4314d5f39a2f3b68eede214bad3e7445c4a7c42\n",
            "  Stored in directory: /root/.cache/pip/wheels/c1/61/df/768b03527bf006b546dce284eb4249b185669e65afc5fbb2ac\n",
            "Successfully built fire\n",
            "Installing collected packages: fire\n",
            "Successfully installed fire-0.3.1\n"
          ],
          "name": "stdout"
        }
      ]
    },
    {
      "cell_type": "code",
      "metadata": {
        "id": "O7mXVZKzylPH",
        "colab_type": "code",
        "colab": {}
      },
      "source": [
        "#export\n",
        "from exp.nb_04 import *"
      ],
      "execution_count": 5,
      "outputs": []
    },
    {
      "cell_type": "markdown",
      "metadata": {
        "id": "tS_DIwYLzU2M",
        "colab_type": "text"
      },
      "source": [
        "## Initial setup"
      ]
    },
    {
      "cell_type": "code",
      "metadata": {
        "id": "TQEbMNQFvxVy",
        "colab_type": "code",
        "colab": {
          "base_uri": "https://localhost:8080/",
          "height": 36
        },
        "outputId": "d59a2892-0c6e-4392-d0d1-ff58beda70a8"
      },
      "source": [
        "x_train,y_train,x_valid,y_valid = get_data()\n",
        "train_ds,valid_ds = Dataset(x_train, y_train),Dataset(x_valid, y_valid)\n",
        "nh,bs = 50,512\n",
        "c = y_train.max().item()+1\n",
        "loss_func = F.cross_entropy"
      ],
      "execution_count": 6,
      "outputs": [
        {
          "output_type": "stream",
          "text": [
            "Downloading http://deeplearning.net/data/mnist/mnist.pkl.gz\n"
          ],
          "name": "stdout"
        },
        {
          "output_type": "display_data",
          "data": {
            "text/html": [
              ""
            ],
            "text/plain": [
              "<IPython.core.display.HTML object>"
            ]
          },
          "metadata": {
            "tags": []
          }
        }
      ]
    },
    {
      "cell_type": "code",
      "metadata": {
        "id": "KCMhH45IZ21G",
        "colab_type": "code",
        "colab": {}
      },
      "source": [
        "data=DataBunch(*get_dls(train_ds,valid_ds,bs),c)"
      ],
      "execution_count": 7,
      "outputs": []
    },
    {
      "cell_type": "code",
      "metadata": {
        "id": "5wnm-5lXzlLT",
        "colab_type": "code",
        "colab": {}
      },
      "source": [
        "#export\n",
        "def create_learner(model_func,loss_func,data):\n",
        "  return Learner(*model_func(data),loss_func,data)"
      ],
      "execution_count": 8,
      "outputs": []
    },
    {
      "cell_type": "code",
      "metadata": {
        "id": "8g9yQ5xKz-Oc",
        "colab_type": "code",
        "colab": {}
      },
      "source": [
        "learn=create_learner(get_model,loss_func,data)"
      ],
      "execution_count": 9,
      "outputs": []
    },
    {
      "cell_type": "code",
      "metadata": {
        "id": "_4Qd8Jpq2Ec_",
        "colab_type": "code",
        "colab": {
          "base_uri": "https://localhost:8080/",
          "height": 129
        },
        "outputId": "b4264a05-a880-412b-d646-b65c14740012"
      },
      "source": [
        "run=Runner([AvgStatsCallback([accuracy])])\n",
        "run.fit(3,learn)"
      ],
      "execution_count": 10,
      "outputs": [
        {
          "output_type": "stream",
          "text": [
            "train: [0.670916875, tensor(0.8039)]\n",
            "valid: [0.3160788330078125, tensor(0.9105)]\n",
            "train: [0.2989583984375, tensor(0.9125)]\n",
            "valid: [0.2440197509765625, tensor(0.9307)]\n",
            "train: [0.24214064453125, tensor(0.9308)]\n",
            "valid: [0.2040796875, tensor(0.9422)]\n"
          ],
          "name": "stdout"
        }
      ]
    },
    {
      "cell_type": "code",
      "metadata": {
        "id": "ywM79MqZ2RiS",
        "colab_type": "code",
        "colab": {}
      },
      "source": [
        "#export\n",
        "def get_model_func(lr=0.5):return partial(get_model,lr=lr)"
      ],
      "execution_count": 11,
      "outputs": []
    },
    {
      "cell_type": "markdown",
      "metadata": {
        "id": "vu9u09f23rU6",
        "colab_type": "text"
      },
      "source": [
        "## Annealing"
      ]
    },
    {
      "cell_type": "markdown",
      "metadata": {
        "id": "2kz3Ou3v4j4Z",
        "colab_type": "text"
      },
      "source": [
        "We define two new callbacks: the Recorder to save track of the loss and our scheduled learning rate, and a ParamScheduler that can schedule any hyperparameter as long as it's registered in the state_dict of the optimizer. "
      ]
    },
    {
      "cell_type": "code",
      "metadata": {
        "id": "Mhiqb5rB28ag",
        "colab_type": "code",
        "colab": {}
      },
      "source": [
        "#export\n",
        "class Recorder(Callback):\n",
        "  def begin_fit(self):\n",
        "    self.lrs,self.losses=[],[]\n",
        "  \n",
        "  def after_batch(self):\n",
        "    if not self.in_train:return\n",
        "    self.lrs.append(self.opt.param_groups[-1]['lr'])\n",
        "    self.losses.append(self.loss.detach().cpu())\n",
        "  \n",
        "  def plot_lr(self):\n",
        "    plt.plot(self.lrs)\n",
        "  \n",
        "  def plot_losses(self):\n",
        "    plt.plot(self.losses)\n",
        "\n",
        "class ParamScheduler(Callback):\n",
        "  _order=1\n",
        "  def __init__(self,pname,sched_func):\n",
        "    self.pname,self.sched_func=pname,sched_func\n",
        "  \n",
        "  def set_param(self):\n",
        "    for pg in self.opt.param_groups:\n",
        "      pg[self.pname]=self.sched_func(self.n_epochs/self.epochs)\n",
        "  \n",
        "  def begin_batch(self):\n",
        "    if self.in_train : self.set_param()\n"
      ],
      "execution_count": 12,
      "outputs": []
    },
    {
      "cell_type": "markdown",
      "metadata": {
        "id": "a0uI7PHZSP2r",
        "colab_type": "text"
      },
      "source": [
        "Let's start with a simple linear schedule going from start to end. It returns a function that takes a `pos` argument (going from 0 to 1) such that this function goes from `start` (at `pos=0`) to `end` (at `pos=1`) in a linear fashion."
      ]
    },
    {
      "cell_type": "code",
      "metadata": {
        "id": "65I3pv-w4mCs",
        "colab_type": "code",
        "colab": {}
      },
      "source": [
        "def sched_lin(start,end):\n",
        "  def _inner(start,end,pos):return start +pos*(end-start)\n",
        "  return partial(_inner,start,end)\n"
      ],
      "execution_count": 13,
      "outputs": []
    },
    {
      "cell_type": "code",
      "metadata": {
        "id": "OUGtIxGw4l-0",
        "colab_type": "code",
        "colab": {}
      },
      "source": [
        "lin=sched_lin(1,2)\n"
      ],
      "execution_count": 14,
      "outputs": []
    },
    {
      "cell_type": "code",
      "metadata": {
        "id": "_DCYrO_l4l4X",
        "colab_type": "code",
        "colab": {
          "base_uri": "https://localhost:8080/",
          "height": 36
        },
        "outputId": "c667a453-c974-4cbf-efe0-54a1e6f2753f"
      },
      "source": [
        "lin(0.1)"
      ],
      "execution_count": 15,
      "outputs": [
        {
          "output_type": "execute_result",
          "data": {
            "text/plain": [
              "1.1"
            ]
          },
          "metadata": {
            "tags": []
          },
          "execution_count": 15
        }
      ]
    },
    {
      "cell_type": "code",
      "metadata": {
        "id": "JBWQgV2t4l1L",
        "colab_type": "code",
        "colab": {}
      },
      "source": [
        "#export\n",
        "def annealer(f):\n",
        "    def _inner(start, end): return partial(f, start, end)\n",
        "    return _inner\n",
        "\n",
        "@annealer\n",
        "def sched_lin(start, end, pos): return start + pos*(end-start)"
      ],
      "execution_count": 16,
      "outputs": []
    },
    {
      "cell_type": "code",
      "metadata": {
        "id": "otnipjdRXcJQ",
        "colab_type": "code",
        "colab": {}
      },
      "source": [
        "#export\n",
        "@annealer\n",
        "def sched_cos(start, end, pos): return start + (1 + math.cos(math.pi*(1-pos))) * (end-start) / 2\n",
        "@annealer\n",
        "def sched_no(start, end, pos):  return start\n",
        "@annealer\n",
        "def sched_exp(start, end, pos): return start * (end/start) ** pos\n",
        "\n",
        "def cos_1cycle_anneal(start, high, end):\n",
        "    return [sched_cos(start, high), sched_cos(high, end)]\n",
        "\n",
        "#This monkey-patch is there to be able to plot tensors\n",
        "torch.Tensor.ndim = property(lambda x: len(x.shape))"
      ],
      "execution_count": 17,
      "outputs": []
    },
    {
      "cell_type": "code",
      "metadata": {
        "id": "7obcpPOfYH09",
        "colab_type": "code",
        "colab": {
          "base_uri": "https://localhost:8080/",
          "height": 265
        },
        "outputId": "63a250a3-6765-4dd1-966c-70503b7b235e"
      },
      "source": [
        "annealings = \"NO LINEAR COS EXP\".split()\n",
        "\n",
        "a=torch.arange(0,100)\n",
        "p = torch.linspace(0.01,1,100)\n",
        "\n",
        "fns = [sched_no, sched_lin, sched_cos, sched_exp]\n",
        "\n",
        "for fn, t in zip(fns, annealings):\n",
        "  f = fn(2, 1e-2)\n",
        "  plt.plot(a, [f(o) for o in p], label=t)\n",
        "plt.legend();\n",
        "\n",
        "\n"
      ],
      "execution_count": 18,
      "outputs": [
        {
          "output_type": "display_data",
          "data": {
            "image/png": "[encoded data removed]",
            "text/plain": [
              "<Figure size 432x288 with 1 Axes>"
            ]
          },
          "metadata": {
            "tags": [],
            "needs_background": "light"
          }
        }
      ]
    },
    {
      "cell_type": "markdown",
      "metadata": {
        "id": "yj1UzT7Daj6d",
        "colab_type": "text"
      },
      "source": [
        "[link text](https://)In practice, we'll often want to combine different schedulers, the following function does that: it uses `scheds[i]` for `pcts[i]` of the training."
      ]
    },
    {
      "cell_type": "code",
      "metadata": {
        "id": "2GIPu-XMZfcU",
        "colab_type": "code",
        "colab": {}
      },
      "source": [
        "#export\n",
        "def combine_scheds(pcts, scheds):\n",
        "    assert sum(pcts) == 1.\n",
        "    pcts = tensor([0] + listify(pcts))\n",
        "    assert torch.all(pcts >= 0)\n",
        "    pcts = torch.cumsum(pcts, 0)\n",
        "    def _inner(pos):\n",
        "        idx = (pos >= pcts).nonzero().max()\n",
        "        if idx == 2: idx = 1\n",
        "        actual_pos = (pos-pcts[idx]) / (pcts[idx+1]-pcts[idx])\n",
        "        return scheds[idx](actual_pos)\n",
        "    return _inner"
      ],
      "execution_count": 19,
      "outputs": []
    },
    {
      "cell_type": "code",
      "metadata": {
        "id": "b8f9T_lAcIJ7",
        "colab_type": "code",
        "colab": {}
      },
      "source": [
        "sched = combine_scheds([0.3, 0.7], [sched_cos(0.3, 0.6), sched_cos(0.6, 0.2)]) "
      ],
      "execution_count": 20,
      "outputs": []
    },
    {
      "cell_type": "code",
      "metadata": {
        "id": "5Y2yNnYkdq7M",
        "colab_type": "code",
        "colab": {
          "base_uri": "https://localhost:8080/",
          "height": 284
        },
        "outputId": "b03e37ec-001b-4fac-d9cd-ece576c330f9"
      },
      "source": [
        "plt.plot(a, [sched(o) for o in p])"
      ],
      "execution_count": 21,
      "outputs": [
        {
          "output_type": "execute_result",
          "data": {
            "text/plain": [
              "[<matplotlib.lines.Line2D at 0x7f0574157ba8>]"
            ]
          },
          "metadata": {
            "tags": []
          },
          "execution_count": 21
        },
        {
          "output_type": "display_data",
          "data": {
            "image/png": "[encoded data removed]",
            "text/plain": [
              "<Figure size 432x288 with 1 Axes>"
            ]
          },
          "metadata": {
            "tags": [],
            "needs_background": "light"
          }
        }
      ]
    },
    {
      "cell_type": "markdown",
      "metadata": {
        "id": "eZvavd6_eHdx",
        "colab_type": "text"
      },
      "source": [
        "We can use it for training quite easily..."
      ]
    },
    {
      "cell_type": "code",
      "metadata": {
        "id": "bEhtjjDidsuR",
        "colab_type": "code",
        "colab": {}
      },
      "source": [
        "cbfs=[Recorder,\n",
        "      partial(AvgStatsCallback,accuracy),\n",
        "      partial(ParamScheduler,'lr',sched)]\n"
      ],
      "execution_count": 22,
      "outputs": []
    },
    {
      "cell_type": "code",
      "metadata": {
        "id": "HiU5fUxAejuA",
        "colab_type": "code",
        "colab": {}
      },
      "source": [
        "learn=create_learner(get_model_func(0.3),loss_func,data)\n",
        "run=Runner(cb_funcs=cbfs)"
      ],
      "execution_count": 23,
      "outputs": []
    },
    {
      "cell_type": "code",
      "metadata": {
        "id": "k5Doz7ome2MK",
        "colab_type": "code",
        "colab": {
          "base_uri": "https://localhost:8080/",
          "height": 129
        },
        "outputId": "d7179b7b-222f-400a-944f-d675049bc2af"
      },
      "source": [
        "run.fit(3,learn)"
      ],
      "execution_count": 24,
      "outputs": [
        {
          "output_type": "stream",
          "text": [
            "train: [0.77353234375, tensor(0.7882)]\n",
            "valid: [0.3186359130859375, tensor(0.9098)]\n",
            "train: [0.29495728515625, tensor(0.9138)]\n",
            "valid: [0.2339066650390625, tensor(0.9336)]\n",
            "train: [0.23605974609375, tensor(0.9324)]\n",
            "valid: [0.2116033203125, tensor(0.9390)]\n"
          ],
          "name": "stdout"
        }
      ]
    },
    {
      "cell_type": "code",
      "metadata": {
        "id": "MOFy1oL2e9VK",
        "colab_type": "code",
        "colab": {
          "base_uri": "https://localhost:8080/",
          "height": 265
        },
        "outputId": "a1d94ad3-2f13-4ef0-ba2f-47e1461058c9"
      },
      "source": [
        "run.recorder.plot_lr()"
      ],
      "execution_count": 25,
      "outputs": [
        {
          "output_type": "display_data",
          "data": {
            "image/png": "[encoded data removed]",
            "text/plain": [
              "<Figure size 432x288 with 1 Axes>"
            ]
          },
          "metadata": {
            "tags": [],
            "needs_background": "light"
          }
        }
      ]
    },
    {
      "cell_type": "code",
      "metadata": {
        "id": "1_64N6nrfff6",
        "colab_type": "code",
        "colab": {
          "base_uri": "https://localhost:8080/",
          "height": 265
        },
        "outputId": "d8dfa2ad-1847-4848-896f-9d2bf0203754"
      },
      "source": [
        "run.recorder.plot_losses()"
      ],
      "execution_count": 28,
      "outputs": [
        {
          "output_type": "display_data",
          "data": {
            "image/png": "[encoded data removed]",
            "text/plain": [
              "<Figure size 432x288 with 1 Axes>"
            ]
          },
          "metadata": {
            "tags": [],
            "needs_background": "light"
          }
        }
      ]
    },
    {
      "cell_type": "markdown",
      "metadata": {
        "id": "Cffo86Kxy2sf",
        "colab_type": "text"
      },
      "source": [
        "## Export"
      ]
    },
    {
      "cell_type": "code",
      "metadata": {
        "id": "ucJdsixnfjRv",
        "colab_type": "code",
        "colab": {
          "base_uri": "https://localhost:8080/",
          "height": 36
        },
        "outputId": "0d82ec94-6f8e-4c74-b4ce-02ac11779f22"
      },
      "source": [
        "%cd \"/content/Fastai2/\""
      ],
      "execution_count": 29,
      "outputs": [
        {
          "output_type": "stream",
          "text": [
            "/content/Fastai2\n"
          ],
          "name": "stdout"
        }
      ]
    },
    {
      "cell_type": "code",
      "metadata": {
        "id": "3L9Wc6Asy8Lt",
        "colab_type": "code",
        "colab": {
          "base_uri": "https://localhost:8080/",
          "height": 279
        },
        "outputId": "d94093aa-66d9-43a8-e772-d172333b3331"
      },
      "source": [
        "!python notebook2script.py 05_anneal.ipynb"
      ],
      "execution_count": 30,
      "outputs": [
        {
          "output_type": "stream",
          "text": [
            "Traceback (most recent call last):\n",
            "  File \"notebook2script.py\", line 74, in <module>\n",
            "    if __name__ == '__main__': fire.Fire(notebook2script)\n",
            "  File \"/usr/local/lib/python3.6/dist-packages/fire/core.py\", line 138, in Fire\n",
            "    component_trace = _Fire(component, args, parsed_flag_args, context, name)\n",
            "  File \"/usr/local/lib/python3.6/dist-packages/fire/core.py\", line 468, in _Fire\n",
            "    target=component.__name__)\n",
            "  File \"/usr/local/lib/python3.6/dist-packages/fire/core.py\", line 672, in _CallAndUpdateTrace\n",
            "    component = fn(*varargs, **kwargs)\n",
            "  File \"notebook2script.py\", line 46, in notebook2script\n",
            "    if not allFiles: notebook2scriptSingle(fname)\n",
            "  File \"notebook2script.py\", line 57, in notebook2scriptSingle\n",
            "    main_dic = json.load(open(fname,'r',encoding=\"utf-8\"))\n",
            "FileNotFoundError: [Errno 2] No such file or directory: '05_anneal.ipynb'\n"
          ],
          "name": "stdout"
        }
      ]
    },
    {
      "cell_type": "code",
      "metadata": {
        "id": "2NZYfxIezBm3",
        "colab_type": "code",
        "colab": {}
      },
      "source": [
        ""
      ],
      "execution_count": null,
      "outputs": []
    }
  ]
}