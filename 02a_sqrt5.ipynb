{
  "nbformat": 4,
  "nbformat_minor": 0,
  "metadata": {
    "colab": {
      "name": "02a_sqrt5.ipynb",
      "provenance": [],
      "collapsed_sections": [],
      "authorship_tag": "ABX9TyNigjb/Q5/8x0Z90Ynmdikg",
      "include_colab_link": true
    },
    "kernelspec": {
      "name": "python3",
      "display_name": "Python 3"
    },
    "accelerator": "GPU"
  },
  "cells": [
    {
      "cell_type": "markdown",
      "metadata": {
        "id": "view-in-github",
        "colab_type": "text"
      },
      "source": [
        "<a href=\"https://colab.research.google.com/github/sauravakolia/Fastai2/blob/master/02a_sqrt5.ipynb\" target=\"_parent\"><img src=\"https://colab.research.google.com/assets/colab-badge.svg\" alt=\"Open In Colab\"/></a>"
      ]
    },
    {
      "cell_type": "code",
      "metadata": {
        "id": "mzfa594-dqej",
        "colab_type": "code",
        "colab": {}
      },
      "source": [
        "%load_ext autoreload\n",
        "%autoreload 2\n",
        "\n",
        "%matplotlib inline"
      ],
      "execution_count": 1,
      "outputs": []
    },
    {
      "cell_type": "code",
      "metadata": {
        "id": "ogJDq6BSsovf",
        "colab_type": "code",
        "colab": {
          "base_uri": "https://localhost:8080/",
          "height": 129
        },
        "outputId": "173c0847-cd50-4f8b-c232-98228972c100"
      },
      "source": [
        "!git clone https://github.com/sauravakolia/Fastai2.git\n"
      ],
      "execution_count": 2,
      "outputs": [
        {
          "output_type": "stream",
          "text": [
            "Cloning into 'Fastai2'...\n",
            "remote: Enumerating objects: 54, done.\u001b[K\n",
            "remote: Counting objects:   1% (1/54)\u001b[K\rremote: Counting objects:   3% (2/54)\u001b[K\rremote: Counting objects:   5% (3/54)\u001b[K\rremote: Counting objects:   7% (4/54)\u001b[K\rremote: Counting objects:   9% (5/54)\u001b[K\rremote: Counting objects:  11% (6/54)\u001b[K\rremote: Counting objects:  12% (7/54)\u001b[K\rremote: Counting objects:  14% (8/54)\u001b[K\rremote: Counting objects:  16% (9/54)\u001b[K\rremote: Counting objects:  18% (10/54)\u001b[K\rremote: Counting objects:  20% (11/54)\u001b[K\rremote: Counting objects:  22% (12/54)\u001b[K\rremote: Counting objects:  24% (13/54)\u001b[K\rremote: Counting objects:  25% (14/54)\u001b[K\rremote: Counting objects:  27% (15/54)\u001b[K\rremote: Counting objects:  29% (16/54)\u001b[K\rremote: Counting objects:  31% (17/54)\u001b[K\rremote: Counting objects:  33% (18/54)\u001b[K\rremote: Counting objects:  35% (19/54)\u001b[K\rremote: Counting objects:  37% (20/54)\u001b[K\rremote: Counting objects:  38% (21/54)\u001b[K\rremote: Counting objects:  40% (22/54)\u001b[K\rremote: Counting objects:  42% (23/54)\u001b[K\rremote: Counting objects:  44% (24/54)\u001b[K\rremote: Counting objects:  46% (25/54)\u001b[K\rremote: Counting objects:  48% (26/54)\u001b[K\rremote: Counting objects:  50% (27/54)\u001b[K\rremote: Counting objects:  51% (28/54)\u001b[K\rremote: Counting objects:  53% (29/54)\u001b[K\rremote: Counting objects:  55% (30/54)\u001b[K\rremote: Counting objects:  57% (31/54)\u001b[K\rremote: Counting objects:  59% (32/54)\u001b[K\rremote: Counting objects:  61% (33/54)\u001b[K\rremote: Counting objects:  62% (34/54)\u001b[K\rremote: Counting objects:  64% (35/54)\u001b[K\rremote: Counting objects:  66% (36/54)\u001b[K\rremote: Counting objects:  68% (37/54)\u001b[K\rremote: Counting objects:  70% (38/54)\u001b[K\rremote: Counting objects:  72% (39/54)\u001b[K\rremote: Counting objects:  74% (40/54)\u001b[K\rremote: Counting objects:  75% (41/54)\u001b[K\rremote: Counting objects:  77% (42/54)\u001b[K\rremote: Counting objects:  79% (43/54)\u001b[K\rremote: Counting objects:  81% (44/54)\u001b[K\rremote: Counting objects:  83% (45/54)\u001b[K\rremote: Counting objects:  85% (46/54)\u001b[K\rremote: Counting objects:  87% (47/54)\u001b[K\rremote: Counting objects:  88% (48/54)\u001b[K\rremote: Counting objects:  90% (49/54)\u001b[K\rremote: Counting objects:  92% (50/54)\u001b[K\rremote: Counting objects:  94% (51/54)\u001b[K\rremote: Counting objects:  96% (52/54)\u001b[K\rremote: Counting objects:  98% (53/54)\u001b[K\rremote: Counting objects: 100% (54/54)\u001b[K\rremote: Counting objects: 100% (54/54), done.\u001b[K\n",
            "remote: Compressing objects:   2% (1/50)\u001b[K\rremote: Compressing objects:   4% (2/50)\u001b[K\rremote: Compressing objects:   6% (3/50)\u001b[K\rremote: Compressing objects:   8% (4/50)\u001b[K\rremote: Compressing objects:  10% (5/50)\u001b[K\rremote: Compressing objects:  12% (6/50)\u001b[K\rremote: Compressing objects:  14% (7/50)\u001b[K\rremote: Compressing objects:  16% (8/50)\u001b[K\rremote: Compressing objects:  18% (9/50)\u001b[K\rremote: Compressing objects:  20% (10/50)\u001b[K\rremote: Compressing objects:  22% (11/50)\u001b[K\rremote: Compressing objects:  24% (12/50)\u001b[K\rremote: Compressing objects:  26% (13/50)\u001b[K\rremote: Compressing objects:  28% (14/50)\u001b[K\rremote: Compressing objects:  30% (15/50)\u001b[K\rremote: Compressing objects:  32% (16/50)\u001b[K\rremote: Compressing objects:  34% (17/50)\u001b[K\rremote: Compressing objects:  36% (18/50)\u001b[K\rremote: Compressing objects:  38% (19/50)\u001b[K\rremote: Compressing objects:  40% (20/50)\u001b[K\rremote: Compressing objects:  42% (21/50)\u001b[K\rremote: Compressing objects:  44% (22/50)\u001b[K\rremote: Compressing objects:  46% (23/50)\u001b[K\rremote: Compressing objects:  48% (24/50)\u001b[K\rremote: Compressing objects:  50% (25/50)\u001b[K\rremote: Compressing objects:  52% (26/50)\u001b[K\rremote: Compressing objects:  54% (27/50)\u001b[K\rremote: Compressing objects:  56% (28/50)\u001b[K\rremote: Compressing objects:  58% (29/50)\u001b[K\rremote: Compressing objects:  60% (30/50)\u001b[K\rremote: Compressing objects:  62% (31/50)\u001b[K\rremote: Compressing objects:  64% (32/50)\u001b[K\rremote: Compressing objects:  66% (33/50)\u001b[K\rremote: Compressing objects:  68% (34/50)\u001b[K\rremote: Compressing objects:  70% (35/50)\u001b[K\rremote: Compressing objects:  72% (36/50)\u001b[K\rremote: Compressing objects:  74% (37/50)\u001b[K\rremote: Compressing objects:  76% (38/50)\u001b[K\rremote: Compressing objects:  78% (39/50)\u001b[K\rremote: Compressing objects:  80% (40/50)\u001b[K\rremote: Compressing objects:  82% (41/50)\u001b[K\rremote: Compressing objects:  84% (42/50)\u001b[K\rremote: Compressing objects:  86% (43/50)\u001b[K\rremote: Compressing objects:  88% (44/50)\u001b[K\rremote: Compressing objects:  90% (45/50)\u001b[K\rremote: Compressing objects:  92% (46/50)\u001b[K\rremote: Compressing objects:  94% (47/50)\u001b[K\rremote: Compressing objects:  96% (48/50)\u001b[K\rremote: Compressing objects:  98% (49/50)\u001b[K\rremote: Compressing objects: 100% (50/50)\u001b[K\rremote: Compressing objects: 100% (50/50), done.\u001b[K\n",
            "Unpacking objects:   1% (1/54)   \rUnpacking objects:   3% (2/54)   \rUnpacking objects:   5% (3/54)   \rUnpacking objects:   7% (4/54)   \rUnpacking objects:   9% (5/54)   \rUnpacking objects:  11% (6/54)   \rUnpacking objects:  12% (7/54)   \rUnpacking objects:  14% (8/54)   \rUnpacking objects:  16% (9/54)   \rUnpacking objects:  18% (10/54)   \rUnpacking objects:  20% (11/54)   \rUnpacking objects:  22% (12/54)   \rUnpacking objects:  24% (13/54)   \rUnpacking objects:  25% (14/54)   \rUnpacking objects:  27% (15/54)   \rUnpacking objects:  29% (16/54)   \rUnpacking objects:  31% (17/54)   \rUnpacking objects:  33% (18/54)   \rUnpacking objects:  35% (19/54)   \rUnpacking objects:  37% (20/54)   \rUnpacking objects:  38% (21/54)   \rUnpacking objects:  40% (22/54)   \rUnpacking objects:  42% (23/54)   \rUnpacking objects:  44% (24/54)   \rremote: Total 54 (delta 25), reused 3 (delta 1), pack-reused 0\u001b[K\n",
            "Unpacking objects:  46% (25/54)   \rUnpacking objects:  48% (26/54)   \rUnpacking objects:  50% (27/54)   \rUnpacking objects:  51% (28/54)   \rUnpacking objects:  53% (29/54)   \rUnpacking objects:  55% (30/54)   \rUnpacking objects:  57% (31/54)   \rUnpacking objects:  59% (32/54)   \rUnpacking objects:  61% (33/54)   \rUnpacking objects:  62% (34/54)   \rUnpacking objects:  64% (35/54)   \rUnpacking objects:  66% (36/54)   \rUnpacking objects:  68% (37/54)   \rUnpacking objects:  70% (38/54)   \rUnpacking objects:  72% (39/54)   \rUnpacking objects:  74% (40/54)   \rUnpacking objects:  75% (41/54)   \rUnpacking objects:  77% (42/54)   \rUnpacking objects:  79% (43/54)   \rUnpacking objects:  81% (44/54)   \rUnpacking objects:  83% (45/54)   \rUnpacking objects:  85% (46/54)   \rUnpacking objects:  87% (47/54)   \rUnpacking objects:  88% (48/54)   \rUnpacking objects:  90% (49/54)   \rUnpacking objects:  92% (50/54)   \rUnpacking objects:  94% (51/54)   \rUnpacking objects:  96% (52/54)   \rUnpacking objects:  98% (53/54)   \rUnpacking objects: 100% (54/54)   \rUnpacking objects: 100% (54/54), done.\n"
          ],
          "name": "stdout"
        }
      ]
    },
    {
      "cell_type": "code",
      "metadata": {
        "id": "4yvxlhUH82F5",
        "colab_type": "code",
        "colab": {}
      },
      "source": [
        "import sys\n",
        "sys.path.append('/content/Fastai2/')"
      ],
      "execution_count": 3,
      "outputs": []
    },
    {
      "cell_type": "code",
      "metadata": {
        "id": "6MrNRpJH87kt",
        "colab_type": "code",
        "colab": {
          "base_uri": "https://localhost:8080/",
          "height": 54
        },
        "outputId": "da014a5e-039b-47a1-ba88-a6413ab36f43"
      },
      "source": [
        "!curl -s https://course.fast.ai/setup/colab | bash"
      ],
      "execution_count": 4,
      "outputs": [
        {
          "output_type": "stream",
          "text": [
            "Updating fastai...\n",
            "Done.\n"
          ],
          "name": "stdout"
        }
      ]
    },
    {
      "cell_type": "code",
      "metadata": {
        "id": "sKJd70Vl89X5",
        "colab_type": "code",
        "colab": {
          "base_uri": "https://localhost:8080/",
          "height": 262
        },
        "outputId": "c4bdf6bf-5a3d-4a13-93ae-e838a469d5dc"
      },
      "source": [
        " !pip install fire"
      ],
      "execution_count": 5,
      "outputs": [
        {
          "output_type": "stream",
          "text": [
            "Collecting fire\n",
            "\u001b[?25l  Downloading https://files.pythonhosted.org/packages/34/a7/0e22e70778aca01a52b9c899d9c145c6396d7b613719cd63db97ffa13f2f/fire-0.3.1.tar.gz (81kB)\n",
            "\r\u001b[K     |████                            | 10kB 16.1MB/s eta 0:00:01\r\u001b[K     |████████                        | 20kB 1.8MB/s eta 0:00:01\r\u001b[K     |████████████▏                   | 30kB 2.3MB/s eta 0:00:01\r\u001b[K     |████████████████▏               | 40kB 2.5MB/s eta 0:00:01\r\u001b[K     |████████████████████▏           | 51kB 2.0MB/s eta 0:00:01\r\u001b[K     |████████████████████████▎       | 61kB 2.3MB/s eta 0:00:01\r\u001b[K     |████████████████████████████▎   | 71kB 2.6MB/s eta 0:00:01\r\u001b[K     |████████████████████████████████| 81kB 2.2MB/s \n",
            "\u001b[?25hRequirement already satisfied: six in /usr/local/lib/python3.6/dist-packages (from fire) (1.12.0)\n",
            "Requirement already satisfied: termcolor in /usr/local/lib/python3.6/dist-packages (from fire) (1.1.0)\n",
            "Building wheels for collected packages: fire\n",
            "  Building wheel for fire (setup.py) ... \u001b[?25l\u001b[?25hdone\n",
            "  Created wheel for fire: filename=fire-0.3.1-py2.py3-none-any.whl size=111005 sha256=780b4de4ba4ba87bbf23575090c27ed1207b4ad1bdaeca3685b6c69f96c4c08e\n",
            "  Stored in directory: /root/.cache/pip/wheels/c1/61/df/768b03527bf006b546dce284eb4249b185669e65afc5fbb2ac\n",
            "Successfully built fire\n",
            "Installing collected packages: fire\n",
            "Successfully installed fire-0.3.1\n"
          ],
          "name": "stdout"
        }
      ]
    },
    {
      "cell_type": "code",
      "metadata": {
        "id": "rTJbuAwfdJg3",
        "colab_type": "code",
        "colab": {
          "base_uri": "https://localhost:8080/",
          "height": 400
        },
        "outputId": "57c341ce-4663-41cd-da2d-384a50d94cc0"
      },
      "source": [
        "#export\n",
        "from exp.nb_02 import *\n",
        "\n",
        "def get_data():\n",
        "    path = datasets.download_data(MNIST_URL, ext='.gz')\n",
        "    with gzip.open(path, 'rb') as f:\n",
        "        ((x_train, y_train), (x_valid, y_valid), _) = pickle.load(f, encoding='latin-1')\n",
        "    return map(tensor, (x_train,y_train,x_valid,y_valid))\n",
        "\n",
        "def normalize(x, m, s): return (x-m)/s"
      ],
      "execution_count": 6,
      "outputs": [
        {
          "output_type": "error",
          "ename": "ModuleNotFoundError",
          "evalue": "ignored",
          "traceback": [
            "\u001b[0;31m---------------------------------------------------------------------------\u001b[0m",
            "\u001b[0;31mModuleNotFoundError\u001b[0m                       Traceback (most recent call last)",
            "\u001b[0;32m<ipython-input-6-529fb1642076>\u001b[0m in \u001b[0;36m<module>\u001b[0;34m()\u001b[0m\n\u001b[1;32m      1\u001b[0m \u001b[0;31m#export\u001b[0m\u001b[0;34m\u001b[0m\u001b[0;34m\u001b[0m\u001b[0;34m\u001b[0m\u001b[0m\n\u001b[0;32m----> 2\u001b[0;31m \u001b[0;32mfrom\u001b[0m \u001b[0mexp\u001b[0m\u001b[0;34m.\u001b[0m\u001b[0mnb_02\u001b[0m \u001b[0;32mimport\u001b[0m \u001b[0;34m*\u001b[0m\u001b[0;34m\u001b[0m\u001b[0;34m\u001b[0m\u001b[0m\n\u001b[0m\u001b[1;32m      3\u001b[0m \u001b[0;34m\u001b[0m\u001b[0m\n\u001b[1;32m      4\u001b[0m \u001b[0;32mdef\u001b[0m \u001b[0mget_data\u001b[0m\u001b[0;34m(\u001b[0m\u001b[0;34m)\u001b[0m\u001b[0;34m:\u001b[0m\u001b[0;34m\u001b[0m\u001b[0;34m\u001b[0m\u001b[0m\n\u001b[1;32m      5\u001b[0m     \u001b[0mpath\u001b[0m \u001b[0;34m=\u001b[0m \u001b[0mdatasets\u001b[0m\u001b[0;34m.\u001b[0m\u001b[0mdownload_data\u001b[0m\u001b[0;34m(\u001b[0m\u001b[0mMNIST_URL\u001b[0m\u001b[0;34m,\u001b[0m \u001b[0mext\u001b[0m\u001b[0;34m=\u001b[0m\u001b[0;34m'.gz'\u001b[0m\u001b[0;34m)\u001b[0m\u001b[0;34m\u001b[0m\u001b[0;34m\u001b[0m\u001b[0m\n",
            "\u001b[0;31mModuleNotFoundError\u001b[0m: No module named 'exp.nb_02'",
            "",
            "\u001b[0;31m---------------------------------------------------------------------------\u001b[0;32m\nNOTE: If your import is failing due to a missing package, you can\nmanually install dependencies using either !pip or !apt.\n\nTo view examples of installing some common dependencies, click the\n\"Open Examples\" button below.\n\u001b[0;31m---------------------------------------------------------------------------\u001b[0m\n"
          ]
        }
      ]
    },
    {
      "cell_type": "code",
      "metadata": {
        "id": "zw7HFy0mtBBU",
        "colab_type": "code",
        "colab": {}
      },
      "source": [
        "torch.nn.modules.conv._ConvNd.reset_parameters??"
      ],
      "execution_count": null,
      "outputs": []
    },
    {
      "cell_type": "code",
      "metadata": {
        "id": "CX7klPyvtXDt",
        "colab_type": "code",
        "colab": {}
      },
      "source": [
        "x_train,y_train,x_valid,y_valid = get_data()\n",
        "train_mean,train_std = x_train.mean(),x_train.std()\n",
        "x_train = normalize(x_train, train_mean, train_std)\n",
        "x_valid = normalize(x_valid, train_mean, train_std)"
      ],
      "execution_count": null,
      "outputs": []
    },
    {
      "cell_type": "code",
      "metadata": {
        "id": "_ewInbbPtwQ9",
        "colab_type": "code",
        "colab": {}
      },
      "source": [
        "x_train = x_train.view(-1,1,28,28)\n",
        "x_valid = x_valid.view(-1,1,28,28)\n"
      ],
      "execution_count": null,
      "outputs": []
    },
    {
      "cell_type": "code",
      "metadata": {
        "id": "HQ5Z9nYXuKu8",
        "colab_type": "code",
        "colab": {}
      },
      "source": [
        "x_train.shape,x_valid.shape"
      ],
      "execution_count": null,
      "outputs": []
    },
    {
      "cell_type": "code",
      "metadata": {
        "id": "EDW7IwbwuVb4",
        "colab_type": "code",
        "colab": {}
      },
      "source": [
        "n,*_=x_train.shape\n",
        "c=y_train.max()+1\n",
        "nh=50\n",
        "n,c"
      ],
      "execution_count": null,
      "outputs": []
    },
    {
      "cell_type": "code",
      "metadata": {
        "id": "iXcCZfBbwBvq",
        "colab_type": "code",
        "colab": {}
      },
      "source": [
        "from torch import nn"
      ],
      "execution_count": null,
      "outputs": []
    },
    {
      "cell_type": "code",
      "metadata": {
        "id": "Wo5vGx6qu62N",
        "colab_type": "code",
        "colab": {}
      },
      "source": [
        "l1 = nn.Conv2d(1, nh, 5)"
      ],
      "execution_count": null,
      "outputs": []
    },
    {
      "cell_type": "code",
      "metadata": {
        "id": "p21osJchv4O-",
        "colab_type": "code",
        "colab": {}
      },
      "source": [
        "x = x_valid[:100]"
      ],
      "execution_count": null,
      "outputs": []
    },
    {
      "cell_type": "code",
      "metadata": {
        "id": "7Dnmfm-ZwOek",
        "colab_type": "code",
        "colab": {}
      },
      "source": [
        "l1.weight.shape"
      ],
      "execution_count": null,
      "outputs": []
    },
    {
      "cell_type": "code",
      "metadata": {
        "id": "HTtrMFUgwbm2",
        "colab_type": "code",
        "colab": {}
      },
      "source": [
        "def stats(x):return x.mean(),x.std()"
      ],
      "execution_count": null,
      "outputs": []
    },
    {
      "cell_type": "code",
      "metadata": {
        "id": "MTzIU81Xwp0J",
        "colab_type": "code",
        "colab": {}
      },
      "source": [
        "stats(x)"
      ],
      "execution_count": null,
      "outputs": []
    },
    {
      "cell_type": "code",
      "metadata": {
        "id": "iEiSdEcPwsUd",
        "colab_type": "code",
        "colab": {}
      },
      "source": [
        "stats(l1.weight),stats(l1.bias)"
      ],
      "execution_count": null,
      "outputs": []
    },
    {
      "cell_type": "code",
      "metadata": {
        "id": "yUZAhnjdw3iK",
        "colab_type": "code",
        "colab": {}
      },
      "source": [
        "t=l1(x)"
      ],
      "execution_count": null,
      "outputs": []
    },
    {
      "cell_type": "code",
      "metadata": {
        "id": "12BqbwUgxd6p",
        "colab_type": "code",
        "colab": {}
      },
      "source": [
        "stats(t)"
      ],
      "execution_count": null,
      "outputs": []
    },
    {
      "cell_type": "code",
      "metadata": {
        "id": "kMIfHqKMy8Jk",
        "colab_type": "code",
        "colab": {}
      },
      "source": [
        "nn.init.kaiming_normal_(l1.weight, a=1.)\n",
        "stats(l1(x))"
      ],
      "execution_count": null,
      "outputs": []
    },
    {
      "cell_type": "code",
      "metadata": {
        "id": "b_T8CYSfzD9q",
        "colab_type": "code",
        "colab": {}
      },
      "source": [
        "import torch.nn.functional as F"
      ],
      "execution_count": null,
      "outputs": []
    },
    {
      "cell_type": "code",
      "metadata": {
        "id": "qOisyNpozNRS",
        "colab_type": "code",
        "colab": {}
      },
      "source": [
        "def f1(x,a=0): return F.leaky_relu(l1(x),a)"
      ],
      "execution_count": null,
      "outputs": []
    },
    {
      "cell_type": "code",
      "metadata": {
        "id": "-CNSHuezzl8L",
        "colab_type": "code",
        "colab": {}
      },
      "source": [
        "nn.init.kaiming_normal_(l1.weight, a=0)\n",
        "stats(f1(x))"
      ],
      "execution_count": null,
      "outputs": []
    },
    {
      "cell_type": "code",
      "metadata": {
        "id": "o32YAkA8zrxs",
        "colab_type": "code",
        "colab": {}
      },
      "source": [
        "l1=nn.Conv2d(1,nh,5)\n",
        "stats(f1(x))"
      ],
      "execution_count": null,
      "outputs": []
    },
    {
      "cell_type": "code",
      "metadata": {
        "id": "ilWaFByadUNV",
        "colab_type": "code",
        "colab": {}
      },
      "source": [
        "rec_fs=l1.weight[0,0].numel()"
      ],
      "execution_count": null,
      "outputs": []
    },
    {
      "cell_type": "code",
      "metadata": {
        "id": "JrHVeEJNhAGX",
        "colab_type": "code",
        "colab": {}
      },
      "source": [
        "nf,ni,*_ = l1.weight.shape\n",
        "nf,ni"
      ],
      "execution_count": null,
      "outputs": []
    },
    {
      "cell_type": "code",
      "metadata": {
        "id": "Qa4bXRoVhB3a",
        "colab_type": "code",
        "colab": {}
      },
      "source": [
        "fan_in  = ni*rec_fs\n",
        "fan_out = nf*rec_fs\n",
        "fan_in,fan_out"
      ],
      "execution_count": null,
      "outputs": []
    },
    {
      "cell_type": "code",
      "metadata": {
        "id": "U2u8wEt0hg2E",
        "colab_type": "code",
        "colab": {}
      },
      "source": [
        "def gain(a): return math.sqrt(2.0/(1+a**2))"
      ],
      "execution_count": null,
      "outputs": []
    },
    {
      "cell_type": "code",
      "metadata": {
        "id": "xN2YABsqhuTz",
        "colab_type": "code",
        "colab": {}
      },
      "source": [
        "gain(1),gain(0),gain(0.01),gain(0.1),gain(math.sqrt(5.))"
      ],
      "execution_count": null,
      "outputs": []
    },
    {
      "cell_type": "code",
      "metadata": {
        "id": "ApGISVyQhxR2",
        "colab_type": "code",
        "colab": {}
      },
      "source": [
        "def kaiming2(x,a, use_fan_out=False):\n",
        "    nf,ni,*_ = x.shape\n",
        "    rec_fs = x[0,0].shape.numel()\n",
        "    fan = nf*rec_fs if use_fan_out else ni*rec_fs\n",
        "    std = gain(a) / math.sqrt(fan)\n",
        "    bound = math.sqrt(3.) * std\n",
        "    x.data.uniform_(-bound,bound)"
      ],
      "execution_count": null,
      "outputs": []
    },
    {
      "cell_type": "code",
      "metadata": {
        "id": "rIBWEYXji_J_",
        "colab_type": "code",
        "colab": {}
      },
      "source": [
        "kaiming2(l1.weight, a=0);\n",
        "stats(f1(x))"
      ],
      "execution_count": null,
      "outputs": []
    },
    {
      "cell_type": "code",
      "metadata": {
        "id": "34p3JCZMjecf",
        "colab_type": "code",
        "colab": {}
      },
      "source": [
        "kaiming2(l1.weight, a=math.sqrt(5.))\n",
        "stats(f1(x))"
      ],
      "execution_count": null,
      "outputs": []
    },
    {
      "cell_type": "code",
      "metadata": {
        "id": "4BT-R1R4jmas",
        "colab_type": "code",
        "colab": {}
      },
      "source": [
        "class Flatten(nn.Module):\n",
        "  def forward(self,x):return  x.view(-1)"
      ],
      "execution_count": null,
      "outputs": []
    },
    {
      "cell_type": "code",
      "metadata": {
        "id": "svyDCjyBm76e",
        "colab_type": "code",
        "colab": {}
      },
      "source": [
        "m=nn.Sequential(nn.Conv2d(1,8, 5,stride=2,padding=2),nn.ReLU(),\n",
        "                nn.Conv2d(8,16,3,stride=2,padding=1),nn.ReLU(),\n",
        "                nn.Conv2d(16,32,3,stride=2,padding=1),nn.ReLU(),\n",
        "                nn.Conv2d(32,1,3,stride=2,padding=1),nn.ReLU(),\n",
        "                nn.AdaptiveAvgPool2d(1),\n",
        "                Flatten(),\n",
        ")"
      ],
      "execution_count": null,
      "outputs": []
    },
    {
      "cell_type": "code",
      "metadata": {
        "id": "D4gD1QQVoQX_",
        "colab_type": "code",
        "colab": {}
      },
      "source": [
        "y = y_valid[:100].float()"
      ],
      "execution_count": null,
      "outputs": []
    },
    {
      "cell_type": "code",
      "metadata": {
        "id": "xW-81iwBn2yJ",
        "colab_type": "code",
        "colab": {}
      },
      "source": [
        "t = m(x)\n",
        "stats(t)"
      ],
      "execution_count": null,
      "outputs": []
    },
    {
      "cell_type": "code",
      "metadata": {
        "id": "xb3p0LNEoMQn",
        "colab_type": "code",
        "colab": {}
      },
      "source": [
        ""
      ],
      "execution_count": null,
      "outputs": []
    },
    {
      "cell_type": "code",
      "metadata": {
        "id": "eIqpj2uh3vBe",
        "colab_type": "code",
        "colab": {}
      },
      "source": [
        "nn.init.kaiming_uniform_??"
      ],
      "execution_count": null,
      "outputs": []
    },
    {
      "cell_type": "code",
      "metadata": {
        "id": "1Ur0lQ6t3y3d",
        "colab_type": "code",
        "colab": {}
      },
      "source": [
        "for l in m:\n",
        "    if isinstance(l,nn.Conv2d):\n",
        "        nn.init.kaiming_uniform_(l.weight)\n",
        "        l.bias.data.zero_()"
      ],
      "execution_count": null,
      "outputs": []
    },
    {
      "cell_type": "code",
      "metadata": {
        "id": "DYToVkn64qK8",
        "colab_type": "code",
        "colab": {}
      },
      "source": [
        "t = m(x)\n",
        "stats(t)"
      ],
      "execution_count": null,
      "outputs": []
    },
    {
      "cell_type": "code",
      "metadata": {
        "id": "Lo29Wn2e41tL",
        "colab_type": "code",
        "colab": {}
      },
      "source": [
        "nn.init.kaiming_normal_??"
      ],
      "execution_count": null,
      "outputs": []
    },
    {
      "cell_type": "code",
      "metadata": {
        "id": "GribDKFT6UfK",
        "colab_type": "code",
        "colab": {}
      },
      "source": [
        ""
      ],
      "execution_count": null,
      "outputs": []
    },
    {
      "cell_type": "code",
      "metadata": {
        "id": "dS-m0ae7rvM-",
        "colab_type": "code",
        "colab": {}
      },
      "source": [
        "%cd \"/content/Fastai2/\""
      ],
      "execution_count": null,
      "outputs": []
    },
    {
      "cell_type": "code",
      "metadata": {
        "id": "_b4jqIyTi9Ix",
        "colab_type": "code",
        "colab": {
          "base_uri": "https://localhost:8080/",
          "height": 36
        },
        "outputId": "86ef50ca-4038-4338-eb1f-464c103c2867"
      },
      "source": [
        "!python notebook2script.py 02a_sqrt5.ipynb"
      ],
      "execution_count": 7,
      "outputs": [
        {
          "output_type": "stream",
          "text": [
            "python3: can't open file 'notebook2script.py': [Errno 2] No such file or directory\n"
          ],
          "name": "stdout"
        }
      ]
    },
    {
      "cell_type": "code",
      "metadata": {
        "id": "cqjpnlL09LhE",
        "colab_type": "code",
        "colab": {}
      },
      "source": [
        ""
      ],
      "execution_count": null,
      "outputs": []
    }
  ]
}