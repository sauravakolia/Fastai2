{
  "nbformat": 4,
  "nbformat_minor": 0,
  "metadata": {
    "colab": {
      "name": "02_fully_connected.ipynb",
      "provenance": [],
      "collapsed_sections": [],
      "authorship_tag": "ABX9TyMHTaQ8RB6SKwPBaBDFe6up",
      "include_colab_link": true
    },
    "kernelspec": {
      "name": "python3",
      "display_name": "Python 3"
    },
    "accelerator": "GPU"
  },
  "cells": [
    {
      "cell_type": "markdown",
      "metadata": {
        "id": "view-in-github",
        "colab_type": "text"
      },
      "source": [
        "<a href=\"https://colab.research.google.com/github/sauravakolia/Fastai2/blob/master/02_fully_connected.ipynb\" target=\"_parent\"><img src=\"https://colab.research.google.com/assets/colab-badge.svg\" alt=\"Open In Colab\"/></a>"
      ]
    },
    {
      "cell_type": "code",
      "metadata": {
        "id": "k3FradjKkpmJ",
        "colab_type": "code",
        "colab": {}
      },
      "source": [
        "%load_ext autoreload\n",
        "%autoreload 2\n",
        "%matplotlib inline"
      ],
      "execution_count": 1,
      "outputs": []
    },
    {
      "cell_type": "code",
      "metadata": {
        "id": "JcVhOPfl3un-",
        "colab_type": "code",
        "colab": {
          "base_uri": "https://localhost:8080/",
          "height": 129
        },
        "outputId": "f416b0b8-3688-4c7b-e1ea-95cb8f6bc2f0"
      },
      "source": [
        "!git clone https://github.com/sauravakolia/Fastai2.git"
      ],
      "execution_count": 2,
      "outputs": [
        {
          "output_type": "stream",
          "text": [
            "Cloning into 'Fastai2'...\n",
            "remote: Enumerating objects: 40, done.\u001b[K\n",
            "remote: Counting objects: 100% (40/40), done.\u001b[K\n",
            "remote: Compressing objects: 100% (36/36), done.\u001b[K\n",
            "remote: Total 40 (delta 17), reused 4 (delta 1), pack-reused 0\u001b[K\n",
            "Unpacking objects: 100% (40/40), done.\n"
          ],
          "name": "stdout"
        }
      ]
    },
    {
      "cell_type": "code",
      "metadata": {
        "id": "hKaeSCTa3e6y",
        "colab_type": "code",
        "colab": {}
      },
      "source": [
        "import sys\n",
        "sys.path.append('/content/Fastai2/')"
      ],
      "execution_count": 7,
      "outputs": []
    },
    {
      "cell_type": "code",
      "metadata": {
        "id": "UGq3dc7hU4i3",
        "colab_type": "code",
        "colab": {}
      },
      "source": [
        "# import operator\n",
        "\n",
        "# def test(a,b,cmp,cname=None):\n",
        "#     if cname is None: cname=cmp.__name__\n",
        "#     assert cmp(a,b),f\"{cname}:\\n{a}\\n{b}\"\n",
        "\n",
        "# def test_eq(a,b): test(a,b,operator.eq,'==')\n"
      ],
      "execution_count": 8,
      "outputs": []
    },
    {
      "cell_type": "code",
      "metadata": {
        "id": "URj-GVvThKSz",
        "colab_type": "code",
        "colab": {}
      },
      "source": [
        "# def near(a,b): return torch.allclose(a, b, rtol=1e-3, atol=1e-5)\n",
        "# def test_near(a,b): test(a,b,near)"
      ],
      "execution_count": 9,
      "outputs": []
    },
    {
      "cell_type": "code",
      "metadata": {
        "id": "5dEC6hYuVxby",
        "colab_type": "code",
        "colab": {}
      },
      "source": [
        "# from pathlib import Path\n",
        "# from IPython.core.debugger import set_trace\n",
        "# from fastai import datasets\n",
        "# import pickle, gzip, math, torch, matplotlib as mpl\n",
        "# import matplotlib.pyplot as plt\n",
        "# from torch import tensor\n",
        "\n",
        "# MNIST_URL='http://deeplearning.net/data/mnist/mnist.pkl'"
      ],
      "execution_count": 10,
      "outputs": []
    },
    {
      "cell_type": "code",
      "metadata": {
        "id": "-Avna49IV8jB",
        "colab_type": "code",
        "colab": {}
      },
      "source": [
        "# path = datasets.download_data(MNIST_URL, ext='.gz');\n",
        "# path"
      ],
      "execution_count": 11,
      "outputs": []
    },
    {
      "cell_type": "code",
      "metadata": {
        "id": "0PXDgGcNkxP7",
        "colab_type": "code",
        "colab": {}
      },
      "source": [
        "#export\n",
        "from exp.nb_01 import *\n",
        "def get_data():\n",
        "    path = datasets.download_data(MNIST_URL, ext='.gz')\n",
        "    with gzip.open(path, 'rb') as f:\n",
        "        ((x_train, y_train), (x_valid, y_valid), _) = pickle.load(f, encoding='latin-1')\n",
        "    return map(tensor, (x_train,y_train,x_valid,y_valid))\n",
        "\n",
        "def normalize(x, m, s): return (x-m)/s\n"
      ],
      "execution_count": 12,
      "outputs": []
    },
    {
      "cell_type": "code",
      "metadata": {
        "id": "AjK9d6h53ahD",
        "colab_type": "code",
        "colab": {
          "base_uri": "https://localhost:8080/",
          "height": 36
        },
        "outputId": "e5f7068d-70bc-429f-ab58-5974e67fa9f6"
      },
      "source": [
        "x_train,y_train,x_valid,y_valid = get_data()"
      ],
      "execution_count": 13,
      "outputs": [
        {
          "output_type": "stream",
          "text": [
            "Downloading http://deeplearning.net/data/mnist/mnist.pkl.gz\n"
          ],
          "name": "stdout"
        },
        {
          "output_type": "display_data",
          "data": {
            "text/html": [
              ""
            ],
            "text/plain": [
              "<IPython.core.display.HTML object>"
            ]
          },
          "metadata": {
            "tags": []
          }
        }
      ]
    },
    {
      "cell_type": "code",
      "metadata": {
        "id": "ht4xES1O3h59",
        "colab_type": "code",
        "colab": {
          "base_uri": "https://localhost:8080/",
          "height": 36
        },
        "outputId": "e1a9264d-cd65-4676-8ecb-99a70ffba4a5"
      },
      "source": [
        "train_mean,train_std = x_train.mean(),x_train.std()\n",
        "train_mean,train_std"
      ],
      "execution_count": 14,
      "outputs": [
        {
          "output_type": "execute_result",
          "data": {
            "text/plain": [
              "(tensor(0.1304), tensor(0.3073))"
            ]
          },
          "metadata": {
            "tags": []
          },
          "execution_count": 14
        }
      ]
    },
    {
      "cell_type": "code",
      "metadata": {
        "id": "YnrjNjSW4CrB",
        "colab_type": "code",
        "colab": {}
      },
      "source": [
        "x_train = normalize(x_train, train_mean, train_std)\n",
        "# NB: Use training, not validation mean for validation set\n",
        "x_valid = normalize(x_valid, train_mean, train_std)"
      ],
      "execution_count": 15,
      "outputs": []
    },
    {
      "cell_type": "code",
      "metadata": {
        "id": "p1Y7PdTR4JPa",
        "colab_type": "code",
        "colab": {
          "base_uri": "https://localhost:8080/",
          "height": 36
        },
        "outputId": "0ce18c8f-5760-4a7f-eb0b-284696b2fcdb"
      },
      "source": [
        "train_mean,train_std = x_train.mean(),x_train.std()\n",
        "train_mean,train_std"
      ],
      "execution_count": 16,
      "outputs": [
        {
          "output_type": "execute_result",
          "data": {
            "text/plain": [
              "(tensor(0.0001), tensor(1.))"
            ]
          },
          "metadata": {
            "tags": []
          },
          "execution_count": 16
        }
      ]
    },
    {
      "cell_type": "code",
      "metadata": {
        "id": "pCt9b5VM4VWs",
        "colab_type": "code",
        "colab": {}
      },
      "source": [
        "#export\n",
        "def test_near_zero(a,tol=1e-3): assert a.abs()<tol, f\"Near zero: {a}\""
      ],
      "execution_count": 17,
      "outputs": []
    },
    {
      "cell_type": "code",
      "metadata": {
        "id": "Vgazb7w949UT",
        "colab_type": "code",
        "colab": {}
      },
      "source": [
        "test_near_zero(x_train.mean())\n",
        "test_near_zero(1-x_train.std())"
      ],
      "execution_count": 18,
      "outputs": []
    },
    {
      "cell_type": "code",
      "metadata": {
        "id": "ubX4OsdI5FJL",
        "colab_type": "code",
        "colab": {
          "base_uri": "https://localhost:8080/",
          "height": 36
        },
        "outputId": "0efd3f39-6a82-48f5-a63c-cccb9cd1fc31"
      },
      "source": [
        "\n",
        "n,m = x_train.shape\n",
        "c = y_train.max()+1\n",
        "n,m,c\n"
      ],
      "execution_count": 19,
      "outputs": [
        {
          "output_type": "execute_result",
          "data": {
            "text/plain": [
              "(50000, 784, tensor(10))"
            ]
          },
          "metadata": {
            "tags": []
          },
          "execution_count": 19
        }
      ]
    },
    {
      "cell_type": "code",
      "metadata": {
        "id": "asaisL1x5NiU",
        "colab_type": "code",
        "colab": {}
      },
      "source": [
        "\n",
        "nh = 50\n"
      ],
      "execution_count": 20,
      "outputs": []
    },
    {
      "cell_type": "markdown",
      "metadata": {
        "id": "gXsq7bhr5Vdv",
        "colab_type": "text"
      },
      "source": [
        "\n",
        "Basic architecture"
      ]
    },
    {
      "cell_type": "code",
      "metadata": {
        "id": "DgifWtLI5Sxy",
        "colab_type": "code",
        "colab": {}
      },
      "source": [
        "w1=torch.randn(m,nh)/math.sqrt(m)\n",
        "b1=torch.zeros(nh)\n",
        "w2=torch.randn(m,1)/math.sqrt(m)\n",
        "b2=torch.zeros(1)"
      ],
      "execution_count": 21,
      "outputs": []
    },
    {
      "cell_type": "code",
      "metadata": {
        "id": "C6V9mhsA58-l",
        "colab_type": "code",
        "colab": {}
      },
      "source": [
        "test_near_zero(w1.mean())\n",
        "test_near_zero(w1.std()-1/math.sqrt(m))"
      ],
      "execution_count": 22,
      "outputs": []
    },
    {
      "cell_type": "code",
      "metadata": {
        "id": "nj-jPCw16RNQ",
        "colab_type": "code",
        "colab": {
          "base_uri": "https://localhost:8080/",
          "height": 36
        },
        "outputId": "4a0418be-6a8e-4453-bb7e-a40c1772401d"
      },
      "source": [
        "x_valid.mean(),x_valid.std()"
      ],
      "execution_count": 23,
      "outputs": [
        {
          "output_type": "execute_result",
          "data": {
            "text/plain": [
              "(tensor(-0.0057), tensor(0.9924))"
            ]
          },
          "metadata": {
            "tags": []
          },
          "execution_count": 23
        }
      ]
    },
    {
      "cell_type": "code",
      "metadata": {
        "id": "Cu7KDxa76Wxe",
        "colab_type": "code",
        "colab": {}
      },
      "source": [
        "def lin(x,w,b):return x@w+b"
      ],
      "execution_count": 24,
      "outputs": []
    },
    {
      "cell_type": "code",
      "metadata": {
        "id": "RAEfoHgZ6rha",
        "colab_type": "code",
        "colab": {}
      },
      "source": [
        "t=lin(x_valid,w1,b1)"
      ],
      "execution_count": 25,
      "outputs": []
    },
    {
      "cell_type": "code",
      "metadata": {
        "id": "DnebdQxG6wOw",
        "colab_type": "code",
        "colab": {
          "base_uri": "https://localhost:8080/",
          "height": 36
        },
        "outputId": "d6955f26-aec9-4cc1-e44b-0a391cc1940f"
      },
      "source": [
        "t.mean(),t.std()"
      ],
      "execution_count": 26,
      "outputs": [
        {
          "output_type": "execute_result",
          "data": {
            "text/plain": [
              "(tensor(0.1287), tensor(1.0051))"
            ]
          },
          "metadata": {
            "tags": []
          },
          "execution_count": 26
        }
      ]
    },
    {
      "cell_type": "code",
      "metadata": {
        "id": "ANVprMPY68Ct",
        "colab_type": "code",
        "colab": {}
      },
      "source": [
        "def relu(x): return x.clamp_min(0.0)"
      ],
      "execution_count": 27,
      "outputs": []
    },
    {
      "cell_type": "code",
      "metadata": {
        "id": "0qpHSWIb7cuV",
        "colab_type": "code",
        "colab": {}
      },
      "source": [
        "t = relu(lin(x_valid, w1, b1))"
      ],
      "execution_count": 28,
      "outputs": []
    },
    {
      "cell_type": "code",
      "metadata": {
        "id": "pb2VDoO37eZM",
        "colab_type": "code",
        "colab": {
          "base_uri": "https://localhost:8080/",
          "height": 36
        },
        "outputId": "48651c9c-33f1-4b72-9455-268de514d179"
      },
      "source": [
        "t.mean(),t.std()"
      ],
      "execution_count": 29,
      "outputs": [
        {
          "output_type": "execute_result",
          "data": {
            "text/plain": [
              "(tensor(0.4677), tensor(0.6274))"
            ]
          },
          "metadata": {
            "tags": []
          },
          "execution_count": 29
        }
      ]
    },
    {
      "cell_type": "code",
      "metadata": {
        "id": "NTpPXg2H7oNC",
        "colab_type": "code",
        "colab": {}
      },
      "source": [
        "w1 = torch.randn(m,nh)*math.sqrt(2./m)\n"
      ],
      "execution_count": 30,
      "outputs": []
    },
    {
      "cell_type": "code",
      "metadata": {
        "id": "rtj5EYmp7qSt",
        "colab_type": "code",
        "colab": {
          "base_uri": "https://localhost:8080/",
          "height": 36
        },
        "outputId": "21ba3cbf-4d4c-487e-9448-1bed66af3188"
      },
      "source": [
        "w1.mean(),w1.std()"
      ],
      "execution_count": 31,
      "outputs": [
        {
          "output_type": "execute_result",
          "data": {
            "text/plain": [
              "(tensor(3.8254e-05), tensor(0.0506))"
            ]
          },
          "metadata": {
            "tags": []
          },
          "execution_count": 31
        }
      ]
    },
    {
      "cell_type": "code",
      "metadata": {
        "id": "bS3EguG377sd",
        "colab_type": "code",
        "colab": {}
      },
      "source": [
        "t = relu(lin(x_valid, w1, b1))"
      ],
      "execution_count": 32,
      "outputs": []
    },
    {
      "cell_type": "code",
      "metadata": {
        "id": "zIth74fH7_2a",
        "colab_type": "code",
        "colab": {
          "base_uri": "https://localhost:8080/",
          "height": 36
        },
        "outputId": "3c3a4a6b-f9e3-4a17-ad48-ae71cf00bb93"
      },
      "source": [
        "t.mean(),t.std()"
      ],
      "execution_count": 33,
      "outputs": [
        {
          "output_type": "execute_result",
          "data": {
            "text/plain": [
              "(tensor(0.5299), tensor(0.7740))"
            ]
          },
          "metadata": {
            "tags": []
          },
          "execution_count": 33
        }
      ]
    },
    {
      "cell_type": "code",
      "metadata": {
        "id": "SAS_JOxv9Atq",
        "colab_type": "code",
        "colab": {}
      },
      "source": [
        "#export\n",
        "from torch.nn import init\n"
      ],
      "execution_count": 34,
      "outputs": []
    },
    {
      "cell_type": "code",
      "metadata": {
        "id": "_Mfr-sJg8yXk",
        "colab_type": "code",
        "colab": {}
      },
      "source": [
        "w1=torch.zeros(m,nh)\n",
        "init.kaiming_normal_(w1, mode='fan_out')\n",
        "t = relu(lin(x_valid, w1, b1))"
      ],
      "execution_count": 35,
      "outputs": []
    },
    {
      "cell_type": "code",
      "metadata": {
        "id": "9xZ-AYt__AwQ",
        "colab_type": "code",
        "colab": {
          "base_uri": "https://localhost:8080/",
          "height": 36
        },
        "outputId": "77b10ec4-9087-41e3-9dfb-1f1099bbd7f0"
      },
      "source": [
        "nn.init.kaiming_normal_??"
      ],
      "execution_count": 36,
      "outputs": [
        {
          "output_type": "stream",
          "text": [
            "Object `nn.init.kaiming_normal_` not found.\n"
          ],
          "name": "stdout"
        }
      ]
    },
    {
      "cell_type": "code",
      "metadata": {
        "id": "7WMBP5S39KY1",
        "colab_type": "code",
        "colab": {
          "base_uri": "https://localhost:8080/",
          "height": 36
        },
        "outputId": "5ad847c4-bdfc-44e8-e8d5-ef586b680d65"
      },
      "source": [
        "w1.mean(),w1.std()"
      ],
      "execution_count": 37,
      "outputs": [
        {
          "output_type": "execute_result",
          "data": {
            "text/plain": [
              "(tensor(-0.0005), tensor(0.0506))"
            ]
          },
          "metadata": {
            "tags": []
          },
          "execution_count": 37
        }
      ]
    },
    {
      "cell_type": "code",
      "metadata": {
        "id": "f_Ygtuu28yST",
        "colab_type": "code",
        "colab": {
          "base_uri": "https://localhost:8080/",
          "height": 36
        },
        "outputId": "e9b64d1d-9b28-48e1-9a2f-380baacd1f00"
      },
      "source": [
        "t.mean(),t.std()"
      ],
      "execution_count": 38,
      "outputs": [
        {
          "output_type": "execute_result",
          "data": {
            "text/plain": [
              "(tensor(0.5804), tensor(0.8080))"
            ]
          },
          "metadata": {
            "tags": []
          },
          "execution_count": 38
        }
      ]
    },
    {
      "cell_type": "code",
      "metadata": {
        "id": "wqo_GVq-9gRl",
        "colab_type": "code",
        "colab": {}
      },
      "source": [
        "def relu(x): return x.clamp_min(0.) - 0.5"
      ],
      "execution_count": 39,
      "outputs": []
    },
    {
      "cell_type": "code",
      "metadata": {
        "id": "6ClB4H7X9gQL",
        "colab_type": "code",
        "colab": {}
      },
      "source": [
        "w1 = torch.randn(m,nh)*math.sqrt(2./m)\n",
        "t = relu(lin(x_valid, w1, b1))\n",
        "w2 = torch.randn(nh,1)*math.sqrt(2./m )"
      ],
      "execution_count": 40,
      "outputs": []
    },
    {
      "cell_type": "code",
      "metadata": {
        "id": "x3f8BS7k9gBf",
        "colab_type": "code",
        "colab": {
          "base_uri": "https://localhost:8080/",
          "height": 36
        },
        "outputId": "1287d18a-11bc-418f-bae8-4ac5b55d2017"
      },
      "source": [
        "t.mean(),t.std()"
      ],
      "execution_count": 41,
      "outputs": [
        {
          "output_type": "execute_result",
          "data": {
            "text/plain": [
              "(tensor(0.0792), tensor(0.8123))"
            ]
          },
          "metadata": {
            "tags": []
          },
          "execution_count": 41
        }
      ]
    },
    {
      "cell_type": "code",
      "metadata": {
        "id": "ZMdEk9zU9f-w",
        "colab_type": "code",
        "colab": {}
      },
      "source": [
        "def model(x):\n",
        "  l1=lin(x,w1,b1)\n",
        "  t1=relu(l1)\n",
        "  l2=lin(t1,w2,b2)\n",
        "  return l2\n"
      ],
      "execution_count": 42,
      "outputs": []
    },
    {
      "cell_type": "code",
      "metadata": {
        "id": "eMl4db1m9f47",
        "colab_type": "code",
        "colab": {
          "base_uri": "https://localhost:8080/",
          "height": 36
        },
        "outputId": "d4571387-aa4b-4bf7-be79-34efa56e2ccc"
      },
      "source": [
        "%timeit -n 10 _=model(x_valid)\n"
      ],
      "execution_count": 43,
      "outputs": [
        {
          "output_type": "stream",
          "text": [
            "10 loops, best of 3: 19.4 ms per loop\n"
          ],
          "name": "stdout"
        }
      ]
    },
    {
      "cell_type": "markdown",
      "metadata": {
        "id": "QNmmQp0gEBk3",
        "colab_type": "text"
      },
      "source": [
        "\n",
        "Loss function: MSE\n"
      ]
    },
    {
      "cell_type": "code",
      "metadata": {
        "id": "-mp2o6T79flY",
        "colab_type": "code",
        "colab": {
          "base_uri": "https://localhost:8080/",
          "height": 36
        },
        "outputId": "2f7b38de-5cb8-4adf-a1e3-b9117ad5a0d5"
      },
      "source": [
        "(model(x_valid).shape)"
      ],
      "execution_count": 44,
      "outputs": [
        {
          "output_type": "execute_result",
          "data": {
            "text/plain": [
              "torch.Size([10000, 1])"
            ]
          },
          "metadata": {
            "tags": []
          },
          "execution_count": 44
        }
      ]
    },
    {
      "cell_type": "code",
      "metadata": {
        "id": "pPvpmu-OFhFy",
        "colab_type": "code",
        "colab": {
          "base_uri": "https://localhost:8080/",
          "height": 36
        },
        "outputId": "e95217be-05dc-40f3-80e5-c96983f73beb"
      },
      "source": [
        "model(x_valid).squeeze(-1).shape"
      ],
      "execution_count": 45,
      "outputs": [
        {
          "output_type": "execute_result",
          "data": {
            "text/plain": [
              "torch.Size([10000])"
            ]
          },
          "metadata": {
            "tags": []
          },
          "execution_count": 45
        }
      ]
    },
    {
      "cell_type": "code",
      "metadata": {
        "id": "jYtLzqx59fgy",
        "colab_type": "code",
        "colab": {}
      },
      "source": [
        "#export\n",
        "def mse(output,target): return (output.squeeze(-1)-target).pow(2).mean()"
      ],
      "execution_count": 46,
      "outputs": []
    },
    {
      "cell_type": "code",
      "metadata": {
        "id": "DSCDMiVIE98S",
        "colab_type": "code",
        "colab": {}
      },
      "source": [
        "y_train,y_valid = y_train.float(),y_valid.float()"
      ],
      "execution_count": 47,
      "outputs": []
    },
    {
      "cell_type": "code",
      "metadata": {
        "id": "gVHp1KfpFNQE",
        "colab_type": "code",
        "colab": {}
      },
      "source": [
        "preds = model(x_train)"
      ],
      "execution_count": 48,
      "outputs": []
    },
    {
      "cell_type": "code",
      "metadata": {
        "id": "NU1YKJEh7Tw7",
        "colab_type": "code",
        "colab": {
          "base_uri": "https://localhost:8080/",
          "height": 36
        },
        "outputId": "eb2e62b2-b448-41b4-c8f6-7eecebc58061"
      },
      "source": [
        "mse(preds,y_train)  "
      ],
      "execution_count": 49,
      "outputs": [
        {
          "output_type": "execute_result",
          "data": {
            "text/plain": [
              "tensor(26.3158)"
            ]
          },
          "metadata": {
            "tags": []
          },
          "execution_count": 49
        }
      ]
    },
    {
      "cell_type": "markdown",
      "metadata": {
        "id": "hPoI3pFxJz7j",
        "colab_type": "text"
      },
      "source": [
        "\n",
        "Gradients and backward pass\n"
      ]
    },
    {
      "cell_type": "code",
      "metadata": {
        "id": "bYW-0QST7ZNd",
        "colab_type": "code",
        "colab": {}
      },
      "source": [
        "def mse_grad(inp,targ):\n",
        "  inp.g=2.*(inp.squeeze()-targ).unsqueeze(-1)/inp.shape[0]\n"
      ],
      "execution_count": 50,
      "outputs": []
    },
    {
      "cell_type": "code",
      "metadata": {
        "id": "SUoSRK88J8Zy",
        "colab_type": "code",
        "colab": {}
      },
      "source": [
        "def relu_grad(inp,out):\n",
        "  inp.g=(inp>0).float()*out.g"
      ],
      "execution_count": 51,
      "outputs": []
    },
    {
      "cell_type": "code",
      "metadata": {
        "id": "BzZr7y2zK_0N",
        "colab_type": "code",
        "colab": {}
      },
      "source": [
        "def lin_grad(inp,out,w,b):\n",
        "  inp.g=out.g @w.t()\n",
        "  w.g = (inp.unsqueeze(-1) * out.g.unsqueeze(1)).sum(0)\n",
        "  b.g=out.g.sum(0)"
      ],
      "execution_count": 52,
      "outputs": []
    },
    {
      "cell_type": "code",
      "metadata": {
        "id": "u-fX6kSZOZWs",
        "colab_type": "code",
        "colab": {}
      },
      "source": [
        "def forward_and_backward(inp,targ):\n",
        "  # forward function\n",
        "  l1=inp@w1 +b1\n",
        "  l2=relu(l1)\n",
        "  out=l2@w2+b2\n",
        "\n",
        "  \n",
        "  # loss func\n",
        "  loss=mse(out,targ)\n",
        "\n",
        "  #backward\n",
        "  mse_grad(out,targ)\n",
        "\n",
        "  lin_grad(l2,out,w2,b2)\n",
        "\n",
        "  relu_grad(l1,l2)\n",
        "\n",
        "  lin_grad(inp,l1,w1,b1)\n"
      ],
      "execution_count": 53,
      "outputs": []
    },
    {
      "cell_type": "code",
      "metadata": {
        "id": "S6IeBp71QNYs",
        "colab_type": "code",
        "colab": {}
      },
      "source": [
        "\n",
        "forward_and_backward(x_train,y_train)"
      ],
      "execution_count": 54,
      "outputs": []
    },
    {
      "cell_type": "code",
      "metadata": {
        "id": "Fka_jFOnQVRa",
        "colab_type": "code",
        "colab": {}
      },
      "source": [
        "w1g = w1.g.clone()\n",
        "w2g=w2.g.clone()\n",
        "b1g = b1.g.clone()\n",
        "b2g=b2.g.clone()\n",
        "ig  = x_train.g.clone()"
      ],
      "execution_count": 55,
      "outputs": []
    },
    {
      "cell_type": "code",
      "metadata": {
        "id": "fcO9LgtxgLXk",
        "colab_type": "code",
        "colab": {}
      },
      "source": [
        "xt2 = x_train.clone().requires_grad_(True)\n",
        "w12=w1.clone().requires_grad_(True)\n",
        "w22=w2.clone().requires_grad_(True)\n",
        "b12=b1.clone().requires_grad_(True)\n",
        "b22=b2.clone().requires_grad_(True)\n"
      ],
      "execution_count": 56,
      "outputs": []
    },
    {
      "cell_type": "code",
      "metadata": {
        "id": "4LWiHUlffaFo",
        "colab_type": "code",
        "colab": {}
      },
      "source": [
        "def forward(inp,targ):\n",
        "  # forward function\n",
        "  l1=inp@w12 +b12\n",
        "  l2=relu(l1)\n",
        "  out=l2@w22+b22\n",
        "  return mse(out,targ)"
      ],
      "execution_count": 57,
      "outputs": []
    },
    {
      "cell_type": "code",
      "metadata": {
        "id": "7lh7HbiJfmQq",
        "colab_type": "code",
        "colab": {}
      },
      "source": [
        "loss=forward(x_train,y_train)"
      ],
      "execution_count": 58,
      "outputs": []
    },
    {
      "cell_type": "code",
      "metadata": {
        "id": "AohrMJoSfuru",
        "colab_type": "code",
        "colab": {}
      },
      "source": [
        "loss.backward()"
      ],
      "execution_count": 59,
      "outputs": []
    },
    {
      "cell_type": "code",
      "metadata": {
        "id": "d1NAN4MLfyaw",
        "colab_type": "code",
        "colab": {}
      },
      "source": [
        "test_near(w22.grad, w2g)\n",
        "test_near(b22.grad, b2g)\n",
        "test_near(w12.grad, w1g)\n",
        "test_near(b12.grad, b1g)\n",
        "# test_near(xt2.grad, ig )"
      ],
      "execution_count": 60,
      "outputs": []
    },
    {
      "cell_type": "markdown",
      "metadata": {
        "id": "xhn0In4WwH3F",
        "colab_type": "text"
      },
      "source": [
        "Refractor"
      ]
    },
    {
      "cell_type": "code",
      "metadata": {
        "id": "BleMbPIDgqYo",
        "colab_type": "code",
        "colab": {}
      },
      "source": [
        "class Relu():\n",
        "  def __call__(self,inp):\n",
        "    self.inp=inp\n",
        "    self.out = inp.clamp_min(0.)-0.5\n",
        "    return self.out\n",
        "\n",
        "  def backward(self):self.inp.g=(self.inp>0).float()*self.out.g\n",
        "\n",
        "\n",
        "# class Relu():\n",
        "#     def __call__(self, inp):\n",
        "#         self.inp = inp\n",
        "#         self.out = inp.clamp_min(0.)-0.5\n",
        "#         return self.out\n",
        "    \n",
        "#     def backward(self): self.inp.g = (self.inp>0).float() * self.out.g\n"
      ],
      "execution_count": 61,
      "outputs": []
    },
    {
      "cell_type": "code",
      "metadata": {
        "id": "_Zb10oBBwMhy",
        "colab_type": "code",
        "colab": {}
      },
      "source": [
        "class Linear():\n",
        "  def __init__(self,w,b):\n",
        "    self.w=w\n",
        "    self.b=b\n",
        "\n",
        "  def __call__(self,inp):\n",
        "    self.inp=inp\n",
        "    self.out=self.inp@self.w + self.b\n",
        "    return self.out\n",
        "\n",
        "  def backward(self):\n",
        "    self.inp.g=self.out.g @ self.w.t()\n",
        "    self.w.g=(self.inp.unsqueeze(-1) * self.out.unsqueeze(1)).sum(0)\n",
        "    self.b.g=self.out.g.sum(0)\n",
        "\n",
        "# class Lin():\n",
        "#     def __init__(self, w, b): self.w,self.b = w,b\n",
        "        \n",
        "#     def __call__(self, inp):\n",
        "#         self.inp = inp\n",
        "#         self.out = inp@self.w + self.b\n",
        "#         return self.out\n",
        "    \n",
        "#     def backward(self):\n",
        "#         self.inp.g = self.out.g @ self.w.t()\n",
        "#         # Creating a giant outer product, just to sum it, is inefficient!\n",
        "#         self.w.g = (self.inp.unsqueeze(-1) * self.out.g.unsqueeze(1)).sum(0)\n",
        "#         self.b.g = self.out.g.sum(0)\n",
        "\n"
      ],
      "execution_count": 62,
      "outputs": []
    },
    {
      "cell_type": "code",
      "metadata": {
        "id": "q279bTgszBbr",
        "colab_type": "code",
        "colab": {}
      },
      "source": [
        "class Mse():\n",
        "  def __call__(self, inp,targ):\n",
        "    self.inp=inp\n",
        "    self.targ=targ\n",
        "    self.out=(inp.squeeze()-targ).pow(2).mean()\n",
        "    return self.out\n",
        "\n",
        "  def backward(self):\n",
        "    self.inp.g=2.*(self.inp.squeeze()-self.targ).unsqueeze(-1)/self.inp.shape[0]\n",
        "\n",
        "\n",
        "# class Mse():\n",
        "#     def __call__(self, inp, targ):\n",
        "#         self.inp = inp\n",
        "#         self.targ = targ\n",
        "#         self.out = (inp.squeeze() - targ).pow(2).mean()\n",
        "#         return self.out\n",
        "    \n",
        "#     def backward(self):\n",
        "#         self.inp.g = 2. * (self.inp.squeeze() - self.targ).unsqueeze(-1) / self.targ.shape[0]"
      ],
      "execution_count": 63,
      "outputs": []
    },
    {
      "cell_type": "code",
      "metadata": {
        "id": "bmoyZPWRzGot",
        "colab_type": "code",
        "colab": {}
      },
      "source": [
        "class Model():\n",
        "  def __init__(self,w1,w2,b1,b2):\n",
        "    self.layers=[Linear(w1,b1), Relu(), Linear(w2,b2)] \n",
        "    self.loss=Mse()   \n",
        "\n",
        "  def __call__(self,inp,targ):\n",
        "    for l in self.layers: inp=l(inp)\n",
        "    self.loss(inp,targ)\n",
        " \n",
        "  def backward(self):\n",
        "    self.loss.backward()\n",
        "    for l in reversed(self.layers):\n",
        "      l.backward()\n",
        "\n",
        "\n",
        "# class Model():\n",
        "#     def __init__(self, w1, b1, w2, b2):\n",
        "#         self.layers = [Lin(w1,b1), Relu(), Lin(w2,b2)]\n",
        "#         self.loss = Mse()\n",
        "        \n",
        "#     def __call__(self, x, targ):\n",
        "#         for l in self.layers: x = l(x)\n",
        "#         return self.loss(x, targ)\n",
        "    \n",
        "#     def backward(self):\n",
        "#         self.loss.backward()\n",
        "#         for l in reversed(self.layers): l.backward()"
      ],
      "execution_count": 64,
      "outputs": []
    },
    {
      "cell_type": "code",
      "metadata": {
        "id": "pwVWknwJbV1m",
        "colab_type": "code",
        "colab": {
          "base_uri": "https://localhost:8080/",
          "height": 36
        },
        "outputId": "37429a95-19e2-457f-a5fb-73ef42841001"
      },
      "source": [
        "w1.g,b1.g,w2.g,b2.g = [None]*4\n",
        "model = Model(w1,w2,b1, b2)\n",
        "x_train.shape"
      ],
      "execution_count": 65,
      "outputs": [
        {
          "output_type": "execute_result",
          "data": {
            "text/plain": [
              "torch.Size([50000, 784])"
            ]
          },
          "metadata": {
            "tags": []
          },
          "execution_count": 65
        }
      ]
    },
    {
      "cell_type": "code",
      "metadata": {
        "id": "dQtVA4nEgksG",
        "colab_type": "code",
        "colab": {
          "base_uri": "https://localhost:8080/",
          "height": 54
        },
        "outputId": "65ca81a5-c6de-4e04-acb4-93bf4977761b"
      },
      "source": [
        "%time loss = model(x_train,y_train)"
      ],
      "execution_count": 66,
      "outputs": [
        {
          "output_type": "stream",
          "text": [
            "CPU times: user 107 ms, sys: 77 µs, total: 107 ms\n",
            "Wall time: 107 ms\n"
          ],
          "name": "stdout"
        }
      ]
    },
    {
      "cell_type": "code",
      "metadata": {
        "id": "6Ya53Y_XgtKl",
        "colab_type": "code",
        "colab": {
          "base_uri": "https://localhost:8080/",
          "height": 54
        },
        "outputId": "1cfbed2e-27f6-44cb-dd1e-673ef9cc3016"
      },
      "source": [
        "%time model.backward()"
      ],
      "execution_count": 67,
      "outputs": [
        {
          "output_type": "stream",
          "text": [
            "CPU times: user 3.38 s, sys: 3.61 s, total: 6.99 s\n",
            "Wall time: 7.03 s\n"
          ],
          "name": "stdout"
        }
      ]
    },
    {
      "cell_type": "markdown",
      "metadata": {
        "id": "KRtDOeMcEPwC",
        "colab_type": "text"
      },
      "source": [
        "Module.forward()"
      ]
    },
    {
      "cell_type": "code",
      "metadata": {
        "id": "ECacg1i6xB0q",
        "colab_type": "code",
        "colab": {}
      },
      "source": [
        "# class Module():\n",
        "#   # def __call__(self, *args):\n",
        "#   #       self.args = args\n",
        "#   #       self.out = self.forward(*args)\n",
        "#   #       return self.out\n",
        "#   def __call__(self,*args):\n",
        "#     self.args=args\n",
        "#     self.out=self.forward\n",
        "#     return self.out\n",
        "\n",
        "#   def forward(self):raise Exception('Not Implemented')\n",
        "\n",
        "  \n",
        "#   def backward(self):self.bwd(self.out,*self.args)\n",
        "\n",
        "class Module():\n",
        "    def __call__(self, *args):\n",
        "        self.args = args\n",
        "        self.out = self.forward(*args)\n",
        "        return self.out\n",
        "    \n",
        "    def forward(self): raise Exception('not implemented')\n",
        "    def backward(self): self.bwd(self.out, *self.args)"
      ],
      "execution_count": 68,
      "outputs": []
    },
    {
      "cell_type": "code",
      "metadata": {
        "id": "Fi0O0bBaETIF",
        "colab_type": "code",
        "colab": {}
      },
      "source": [
        "# class Relu(Module):\n",
        "#   def forward(self,inp): return self.inp.clamp_min(0.)-0.5\n",
        "\n",
        "#   def bwd(self,out,inp):self.inp.g=(inp>0).float()*out.g\n",
        "\n",
        "class Relu(Module):\n",
        "    def forward(self, inp): return inp.clamp_min(0.)-0.5\n",
        "    def bwd(self, out, inp): inp.g = (inp>0).float() * out.g"
      ],
      "execution_count": 69,
      "outputs": []
    },
    {
      "cell_type": "code",
      "metadata": {
        "id": "IcrxbTXOGYuo",
        "colab_type": "code",
        "colab": {}
      },
      "source": [
        "# class Linear(Module):\n",
        "#   def __init__(self,w,b):\n",
        "#     self.w=w\n",
        "#     self.b=b\n",
        "\n",
        "#   def forward(self,inp):\n",
        "#     return inp@self.w + self.b\n",
        "\n",
        "#   def bwd(self,inp,out):\n",
        "#     inp.g=out.g @ self.w.t()\n",
        "#     self.w.g=torch.einsum(\"bi,bj->ij\", inp, out.g)\n",
        "#     self.b.g=self.out.g.sum(0)\n",
        "\n",
        "class Lin(Module):\n",
        "    def __init__(self, w, b): self.w,self.b = w,b\n",
        "        \n",
        "    def forward(self, inp): return inp@self.w + self.b\n",
        "    \n",
        "    def bwd(self, out, inp):\n",
        "        inp.g = out.g @ self.w.t()\n",
        "        self.w.g = torch.einsum(\"bi,bj->ij\", inp, out.g)\n",
        "        self.b.g = out.g.sum(0)"
      ],
      "execution_count": 70,
      "outputs": []
    },
    {
      "cell_type": "code",
      "metadata": {
        "id": "QQyX9lBAG91i",
        "colab_type": "code",
        "colab": {}
      },
      "source": [
        "# class Mse(Module):\n",
        "#   def forward(self, inp,targ):\n",
        "#     (self.inp.squeeze()-targ).pow(2).mean()\n",
        "#     return (self.inp.squeeze()-targ).pow(2).mean()\n",
        "\n",
        "#   def bwd(self, out, inp, targ):\n",
        "#     self.inp.g=2.*(self.inp.squeeze()-self.targ).unsqueeze(-1)/self.inp.shape[0]\n",
        "\n",
        "class Mse(Module):\n",
        "    def forward (self, inp, targ): return (inp.squeeze() - targ).pow(2).mean()\n",
        "    def bwd(self, out, inp, targ): inp.g = 2*(inp.squeeze()-targ).unsqueeze(-1) / targ.shape[0]"
      ],
      "execution_count": 71,
      "outputs": []
    },
    {
      "cell_type": "code",
      "metadata": {
        "id": "iKvMPWuA2tfP",
        "colab_type": "code",
        "colab": {}
      },
      "source": [
        "\n"
      ],
      "execution_count": 71,
      "outputs": []
    },
    {
      "cell_type": "code",
      "metadata": {
        "id": "o_qzbMlxHRq6",
        "colab_type": "code",
        "colab": {}
      },
      "source": [
        "class Model():\n",
        "    def __init__(self):\n",
        "        self.layers = [Lin(w1,b1), Relu(), Lin(w2,b2)]\n",
        "        self.loss = Mse()\n",
        "        \n",
        "    def __call__(self, x, targ):\n",
        "        for l in self.layers: x = l(x)\n",
        "        return self.loss(x, targ)\n",
        "    \n",
        "    def backward(self):\n",
        "        self.loss.backward()\n",
        "        for l in reversed(self.layers): l.backward()"
      ],
      "execution_count": 72,
      "outputs": []
    },
    {
      "cell_type": "code",
      "metadata": {
        "id": "zo1wpMBxH9DP",
        "colab_type": "code",
        "colab": {}
      },
      "source": [
        "w1.g,b1.g,w2.g,b2.g = [None]*4\n",
        "model = Model()"
      ],
      "execution_count": 73,
      "outputs": []
    },
    {
      "cell_type": "code",
      "metadata": {
        "id": "_iibi443H9mJ",
        "colab_type": "code",
        "colab": {
          "base_uri": "https://localhost:8080/",
          "height": 54
        },
        "outputId": "d8eb6091-d8ef-455e-8d34-24899f7f6d38"
      },
      "source": [
        "%time loss = model(x_train, y_train)"
      ],
      "execution_count": 74,
      "outputs": [
        {
          "output_type": "stream",
          "text": [
            "CPU times: user 120 ms, sys: 0 ns, total: 120 ms\n",
            "Wall time: 128 ms\n"
          ],
          "name": "stdout"
        }
      ]
    },
    {
      "cell_type": "code",
      "metadata": {
        "id": "0NjbTaNoIMxz",
        "colab_type": "code",
        "colab": {
          "base_uri": "https://localhost:8080/",
          "height": 54
        },
        "outputId": "d6713be0-5565-4d8a-fcd4-e0ce8e8b591a"
      },
      "source": [
        "%time model.backward()"
      ],
      "execution_count": 75,
      "outputs": [
        {
          "output_type": "stream",
          "text": [
            "CPU times: user 191 ms, sys: 92.1 ms, total: 283 ms\n",
            "Wall time: 288 ms\n"
          ],
          "name": "stdout"
        }
      ]
    },
    {
      "cell_type": "code",
      "metadata": {
        "id": "Qp_3kCJhKKdR",
        "colab_type": "code",
        "colab": {}
      },
      "source": [
        "#export\n",
        "from torch import nn"
      ],
      "execution_count": 76,
      "outputs": []
    },
    {
      "cell_type": "code",
      "metadata": {
        "id": "tGl1FeyKqKLD",
        "colab_type": "code",
        "colab": {}
      },
      "source": [
        "class Model(nn.Module):\n",
        "  def __init__(self,n_in,nh,n_out):\n",
        "    super().__init__()\n",
        "    self.layers=[nn.Linear(n_in,nh),nn.ReLU(),nn.Linear(nh,n_out)]\n",
        "    self.loss=mse\n",
        "\n",
        "  def __call__(self,x,targ):\n",
        "    for l in self.layers:x=l(x)\n",
        "    return self.loss(x.squeeze(),targ)  "
      ],
      "execution_count": 77,
      "outputs": []
    },
    {
      "cell_type": "code",
      "metadata": {
        "id": "M89FOUNcrhjM",
        "colab_type": "code",
        "colab": {}
      },
      "source": [
        "model=Model(m,nh,1)"
      ],
      "execution_count": 78,
      "outputs": []
    },
    {
      "cell_type": "code",
      "metadata": {
        "id": "corWWlzcr5fJ",
        "colab_type": "code",
        "colab": {
          "base_uri": "https://localhost:8080/",
          "height": 54
        },
        "outputId": "17d7ccd0-9292-486e-ad79-5c49e867d43b"
      },
      "source": [
        "%time loss=model(x_train,y_train)"
      ],
      "execution_count": 79,
      "outputs": [
        {
          "output_type": "stream",
          "text": [
            "CPU times: user 108 ms, sys: 0 ns, total: 108 ms\n",
            "Wall time: 111 ms\n"
          ],
          "name": "stdout"
        }
      ]
    },
    {
      "cell_type": "code",
      "metadata": {
        "id": "qRPe5TCN30EG",
        "colab_type": "code",
        "colab": {}
      },
      "source": [
        ""
      ],
      "execution_count": null,
      "outputs": []
    },
    {
      "cell_type": "code",
      "metadata": {
        "id": "BkBJdCMj30Aw",
        "colab_type": "code",
        "colab": {}
      },
      "source": [
        ""
      ],
      "execution_count": null,
      "outputs": []
    },
    {
      "cell_type": "code",
      "metadata": {
        "id": "Tvfuomqrr-zw",
        "colab_type": "code",
        "colab": {
          "base_uri": "https://localhost:8080/",
          "height": 54
        },
        "outputId": "586558e3-66d5-4caf-d70f-83e75bfe88e3"
      },
      "source": [
        "%time loss.backward()"
      ],
      "execution_count": 80,
      "outputs": [
        {
          "output_type": "stream",
          "text": [
            "CPU times: user 78.2 ms, sys: 0 ns, total: 78.2 ms\n",
            "Wall time: 79.4 ms\n"
          ],
          "name": "stdout"
        }
      ]
    },
    {
      "cell_type": "code",
      "metadata": {
        "id": "XIa69c7X3xQl",
        "colab_type": "code",
        "colab": {
          "base_uri": "https://localhost:8080/",
          "height": 36
        },
        "outputId": "4573dfd0-bd2f-46a2-c178-88374b040fc9"
      },
      "source": [
        "%cd \"/content/Fastai2/\""
      ],
      "execution_count": 82,
      "outputs": [
        {
          "output_type": "stream",
          "text": [
            "/content/Fastai2\n"
          ],
          "name": "stdout"
        }
      ]
    },
    {
      "cell_type": "code",
      "metadata": {
        "id": "rwBMLnVxsS_8",
        "colab_type": "code",
        "colab": {
          "base_uri": "https://localhost:8080/",
          "height": 36
        },
        "outputId": "aa0e189f-6e51-4965-ca4a-15d79ab76467"
      },
      "source": [
        "!./notebook2script.py 02_fully_connected.ipynb"
      ],
      "execution_count": 81,
      "outputs": [
        {
          "output_type": "stream",
          "text": [
            "/bin/bash: ./notebook2script.py: No such file or directory\n"
          ],
          "name": "stdout"
        }
      ]
    },
    {
      "cell_type": "code",
      "metadata": {
        "id": "mcO9QAI-3uCD",
        "colab_type": "code",
        "colab": {}
      },
      "source": [
        ""
      ],
      "execution_count": null,
      "outputs": []
    }
  ]
}